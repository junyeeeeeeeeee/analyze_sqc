{
  "nbformat": 4,
  "nbformat_minor": 0,
  "metadata": {
    "colab": {
      "provenance": [],
      "authorship_tag": "ABX9TyN+kmwivJQwDpcle2I738J/",
      "include_colab_link": true
    },
    "kernelspec": {
      "name": "python3",
      "display_name": "Python 3"
    },
    "language_info": {
      "name": "python"
    }
  },
  "cells": [
    {
      "cell_type": "markdown",
      "metadata": {
        "id": "view-in-github",
        "colab_type": "text"
      },
      "source": [
        "<a href=\"https://colab.research.google.com/github/myrronaguila/analyze_sqc/blob/main/qutip%20Bloch%20Sphere%20Animation/2Q_Gates_CNOT.ipynb\" target=\"_parent\"><img src=\"https://colab.research.google.com/assets/colab-badge.svg\" alt=\"Open In Colab\"/></a>"
      ]
    },
    {
      "cell_type": "markdown",
      "source": [
        "#Bloch Sphere Animation - 2Q Gates (CNOT)\n",
        "By Myrron Albert Callera Aguila, PhD (First updated 20231025)"
      ],
      "metadata": {
        "id": "Zgc3x4n4dOZL"
      }
    },
    {
      "cell_type": "markdown",
      "source": [
        "## Disclaimer:\n",
        "Our codes are using only 1Q gates for visualization of said operation. This code base does not yet deal with 2Q circuit gates which requires more-precise evolution based on Unitary Matrix. However, this can be done in its advanced form once the matrix crunching is done properly."
      ],
      "metadata": {
        "id": "ecv2ivYydYr8"
      }
    },
    {
      "cell_type": "markdown",
      "source": [
        "##Imported Libraries"
      ],
      "metadata": {
        "id": "bmvGJ4Ete5Ak"
      }
    },
    {
      "cell_type": "code",
      "execution_count": null,
      "metadata": {
        "colab": {
          "base_uri": "https://localhost:8080/"
        },
        "outputId": "80ff32a1-b9f9-4a83-8dfa-e768386daa8b",
        "id": "L_AoZ4oGh4sj"
      },
      "outputs": [
        {
          "output_type": "stream",
          "name": "stdout",
          "text": [
            "Collecting qutip==4.7.3\n",
            "  Downloading qutip-4.7.3-cp310-cp310-manylinux_2_17_x86_64.manylinux2014_x86_64.whl (16.3 MB)\n",
            "\u001b[2K     \u001b[90m━━━━━━━━━━━━━━━━━━━━━━━━━━━━━━━━━━━━━━━━\u001b[0m \u001b[32m16.3/16.3 MB\u001b[0m \u001b[31m71.2 MB/s\u001b[0m eta \u001b[36m0:00:00\u001b[0m\n",
            "\u001b[?25hRequirement already satisfied: numpy>=1.16.6 in /usr/local/lib/python3.10/dist-packages (from qutip==4.7.3) (1.23.5)\n",
            "Requirement already satisfied: scipy>=1.0 in /usr/local/lib/python3.10/dist-packages (from qutip==4.7.3) (1.11.3)\n",
            "Requirement already satisfied: packaging in /usr/local/lib/python3.10/dist-packages (from qutip==4.7.3) (23.2)\n",
            "Installing collected packages: qutip\n",
            "Successfully installed qutip-4.7.3\n",
            "Collecting qutip-qip==0.3.0\n",
            "  Downloading qutip_qip-0.3.0-py3-none-any.whl (128 kB)\n",
            "\u001b[2K     \u001b[90m━━━━━━━━━━━━━━━━━━━━━━━━━━━━━━━━━━━━━━━━\u001b[0m \u001b[32m128.6/128.6 kB\u001b[0m \u001b[31m1.6 MB/s\u001b[0m eta \u001b[36m0:00:00\u001b[0m\n",
            "\u001b[?25hRequirement already satisfied: numpy>=1.16.6 in /usr/local/lib/python3.10/dist-packages (from qutip-qip==0.3.0) (1.23.5)\n",
            "Requirement already satisfied: scipy>=1.0 in /usr/local/lib/python3.10/dist-packages (from qutip-qip==0.3.0) (1.11.3)\n",
            "Requirement already satisfied: qutip>=4.6 in /usr/local/lib/python3.10/dist-packages (from qutip-qip==0.3.0) (4.7.3)\n",
            "Requirement already satisfied: packaging in /usr/local/lib/python3.10/dist-packages (from qutip-qip==0.3.0) (23.2)\n",
            "Installing collected packages: qutip-qip\n",
            "Successfully installed qutip-qip-0.3.0\n",
            "Collecting ghostscript==0.7\n",
            "  Downloading ghostscript-0.7-py2.py3-none-any.whl (25 kB)\n",
            "Requirement already satisfied: setuptools>=38.6.0 in /usr/local/lib/python3.10/dist-packages (from ghostscript==0.7) (67.7.2)\n",
            "Installing collected packages: ghostscript\n",
            "Successfully installed ghostscript-0.7\n",
            "Collecting folium==0.2.1\n",
            "  Downloading folium-0.2.1.tar.gz (69 kB)\n",
            "\u001b[2K     \u001b[90m━━━━━━━━━━━━━━━━━━━━━━━━━━━━━━━━━━━━━━━━\u001b[0m \u001b[32m70.0/70.0 kB\u001b[0m \u001b[31m1.8 MB/s\u001b[0m eta \u001b[36m0:00:00\u001b[0m\n",
            "\u001b[?25h  Preparing metadata (setup.py) ... \u001b[?25l\u001b[?25hdone\n",
            "Requirement already satisfied: Jinja2 in /usr/local/lib/python3.10/dist-packages (from folium==0.2.1) (3.1.2)\n",
            "Requirement already satisfied: MarkupSafe>=2.0 in /usr/local/lib/python3.10/dist-packages (from Jinja2->folium==0.2.1) (2.1.3)\n",
            "Building wheels for collected packages: folium\n",
            "  Building wheel for folium (setup.py) ... \u001b[?25l\u001b[?25hdone\n",
            "  Created wheel for folium: filename=folium-0.2.1-py3-none-any.whl size=79793 sha256=720fa3feb73862997084e7430c3c69495d98c2e03772fdc9189078d9e76eb44f\n",
            "  Stored in directory: /root/.cache/pip/wheels/00/0c/07/d7792a5444d5bb074361ac27da53cee9d5cce59a07fe9da5dd\n",
            "Successfully built folium\n",
            "Installing collected packages: folium\n",
            "  Attempting uninstall: folium\n",
            "    Found existing installation: folium 0.14.0\n",
            "    Uninstalling folium-0.14.0:\n",
            "      Successfully uninstalled folium-0.14.0\n",
            "\u001b[31mERROR: pip's dependency resolver does not currently take into account all the packages that are installed. This behaviour is the source of the following dependency conflicts.\n",
            "datascience 0.17.6 requires folium>=0.9.1, but you have folium 0.2.1 which is incompatible.\n",
            "geemap 0.28.2 requires folium>=0.13.0, but you have folium 0.2.1 which is incompatible.\u001b[0m\u001b[31m\n",
            "\u001b[0mSuccessfully installed folium-0.2.1\n",
            "Collecting pdflatex==0.1.3\n",
            "  Downloading pdflatex-0.1.3-py3-none-any.whl (8.3 kB)\n",
            "Collecting attrs<19.0,>=18.2 (from pdflatex==0.1.3)\n",
            "  Downloading attrs-18.2.0-py2.py3-none-any.whl (34 kB)\n",
            "Installing collected packages: attrs, pdflatex\n",
            "  Attempting uninstall: attrs\n",
            "    Found existing installation: attrs 23.1.0\n",
            "    Uninstalling attrs-23.1.0:\n",
            "      Successfully uninstalled attrs-23.1.0\n",
            "\u001b[31mERROR: pip's dependency resolver does not currently take into account all the packages that are installed. This behaviour is the source of the following dependency conflicts.\n",
            "lida 0.0.10 requires fastapi, which is not installed.\n",
            "lida 0.0.10 requires kaleido, which is not installed.\n",
            "lida 0.0.10 requires python-multipart, which is not installed.\n",
            "lida 0.0.10 requires uvicorn, which is not installed.\n",
            "fiona 1.9.5 requires attrs>=19.2.0, but you have attrs 18.2.0 which is incompatible.\n",
            "jsonschema 4.19.1 requires attrs>=22.2.0, but you have attrs 18.2.0 which is incompatible.\n",
            "referencing 0.30.2 requires attrs>=22.2.0, but you have attrs 18.2.0 which is incompatible.\u001b[0m\u001b[31m\n",
            "\u001b[0mSuccessfully installed attrs-18.2.0 pdflatex-0.1.3\n",
            "Reading package lists... Done\n",
            "Building dependency tree... Done\n",
            "Reading state information... Done\n",
            "ffmpeg is already the newest version (7:4.4.2-0ubuntu0.22.04.1).\n",
            "0 upgraded, 0 newly installed, 0 to remove and 18 not upgraded.\n",
            "Reading package lists... Done\n",
            "Building dependency tree... Done\n",
            "Reading state information... Done\n",
            "The following additional packages will be installed:\n",
            "  fonts-droid-fallback fonts-noto-mono fonts-urw-base35 ghostscript gsfonts imagemagick-6-common\n",
            "  imagemagick-6.q16 libdjvulibre-text libdjvulibre21 libfftw3-double3 libgs9 libgs9-common libidn12\n",
            "  libijs-0.35 libjbig2dec0 libjxr-tools libjxr0 liblqr-1-0 libmagickcore-6.q16-6\n",
            "  libmagickcore-6.q16-6-extra libmagickwand-6.q16-6 libnetpbm10 libwmflite-0.2-7 netpbm\n",
            "  poppler-data\n",
            "Suggested packages:\n",
            "  fonts-noto fonts-freefont-otf | fonts-freefont-ttf fonts-texgyre ghostscript-x imagemagick-doc\n",
            "  autotrace cups-bsd | lpr | lprng enscript gimp gnuplot grads hp2xx html2ps libwmf-bin mplayer\n",
            "  povray radiance sane-utils texlive-base-bin transfig ufraw-batch libfftw3-bin libfftw3-dev\n",
            "  inkscape poppler-utils fonts-japanese-mincho | fonts-ipafont-mincho fonts-japanese-gothic\n",
            "  | fonts-ipafont-gothic fonts-arphic-ukai fonts-arphic-uming fonts-nanum\n",
            "The following NEW packages will be installed:\n",
            "  fonts-droid-fallback fonts-noto-mono fonts-urw-base35 ghostscript gsfonts imagemagick\n",
            "  imagemagick-6-common imagemagick-6.q16 libdjvulibre-text libdjvulibre21 libfftw3-double3 libgs9\n",
            "  libgs9-common libidn12 libijs-0.35 libjbig2dec0 libjxr-tools libjxr0 liblqr-1-0\n",
            "  libmagickcore-6.q16-6 libmagickcore-6.q16-6-extra libmagickwand-6.q16-6 libnetpbm10\n",
            "  libwmflite-0.2-7 netpbm poppler-data\n",
            "0 upgraded, 26 newly installed, 0 to remove and 18 not upgraded.\n",
            "Need to get 25.1 MB of archives.\n",
            "After this operation, 87.9 MB of additional disk space will be used.\n",
            "Get:1 http://archive.ubuntu.com/ubuntu jammy/main amd64 fonts-droid-fallback all 1:6.0.1r16-1.1build1 [1,805 kB]\n",
            "Get:2 http://archive.ubuntu.com/ubuntu jammy/main amd64 libfftw3-double3 amd64 3.3.8-2ubuntu8 [770 kB]\n",
            "Get:3 http://archive.ubuntu.com/ubuntu jammy/universe amd64 liblqr-1-0 amd64 0.4.2-2.1 [27.7 kB]\n",
            "Get:4 http://archive.ubuntu.com/ubuntu jammy-updates/universe amd64 imagemagick-6-common all 8:6.9.11.60+dfsg-1.3ubuntu0.22.04.3 [63.6 kB]\n",
            "Get:5 http://archive.ubuntu.com/ubuntu jammy-updates/universe amd64 libmagickcore-6.q16-6 amd64 8:6.9.11.60+dfsg-1.3ubuntu0.22.04.3 [1,788 kB]\n",
            "Get:6 http://archive.ubuntu.com/ubuntu jammy-updates/universe amd64 libmagickwand-6.q16-6 amd64 8:6.9.11.60+dfsg-1.3ubuntu0.22.04.3 [328 kB]\n",
            "Get:7 http://archive.ubuntu.com/ubuntu jammy/main amd64 poppler-data all 0.4.11-1 [2,171 kB]\n",
            "Get:8 http://archive.ubuntu.com/ubuntu jammy/main amd64 fonts-noto-mono all 20201225-1build1 [397 kB]\n",
            "Get:9 http://archive.ubuntu.com/ubuntu jammy/main amd64 fonts-urw-base35 all 20200910-1 [6,367 kB]\n",
            "Get:10 http://archive.ubuntu.com/ubuntu jammy-updates/main amd64 libgs9-common all 9.55.0~dfsg1-0ubuntu5.5 [752 kB]\n",
            "Get:11 http://archive.ubuntu.com/ubuntu jammy-updates/main amd64 libidn12 amd64 1.38-4ubuntu1 [60.0 kB]\n",
            "Get:12 http://archive.ubuntu.com/ubuntu jammy/main amd64 libijs-0.35 amd64 0.35-15build2 [16.5 kB]\n",
            "Get:13 http://archive.ubuntu.com/ubuntu jammy/main amd64 libjbig2dec0 amd64 0.19-3build2 [64.7 kB]\n",
            "Get:14 http://archive.ubuntu.com/ubuntu jammy-updates/main amd64 libgs9 amd64 9.55.0~dfsg1-0ubuntu5.5 [5,030 kB]\n",
            "Get:15 http://archive.ubuntu.com/ubuntu jammy-updates/main amd64 ghostscript amd64 9.55.0~dfsg1-0ubuntu5.5 [49.5 kB]\n",
            "Get:16 http://archive.ubuntu.com/ubuntu jammy/universe amd64 gsfonts all 1:8.11+urwcyr1.0.7~pre44-4.5 [3,120 kB]\n",
            "Get:17 http://archive.ubuntu.com/ubuntu jammy-updates/universe amd64 imagemagick-6.q16 amd64 8:6.9.11.60+dfsg-1.3ubuntu0.22.04.3 [224 kB]\n",
            "Get:18 http://archive.ubuntu.com/ubuntu jammy-updates/universe amd64 imagemagick amd64 8:6.9.11.60+dfsg-1.3ubuntu0.22.04.3 [14.6 kB]\n",
            "Get:19 http://archive.ubuntu.com/ubuntu jammy/main amd64 libdjvulibre-text all 3.5.28-2build2 [50.9 kB]\n",
            "Get:20 http://archive.ubuntu.com/ubuntu jammy/main amd64 libdjvulibre21 amd64 3.5.28-2build2 [624 kB]\n",
            "Get:21 http://archive.ubuntu.com/ubuntu jammy/universe amd64 libjxr0 amd64 1.2~git20170615.f752187-5 [174 kB]\n",
            "Get:22 http://archive.ubuntu.com/ubuntu jammy/universe amd64 libjxr-tools amd64 1.2~git20170615.f752187-5 [16.0 kB]\n",
            "Get:23 http://archive.ubuntu.com/ubuntu jammy/main amd64 libwmflite-0.2-7 amd64 0.2.12-5ubuntu1 [68.9 kB]\n",
            "Get:24 http://archive.ubuntu.com/ubuntu jammy-updates/universe amd64 libmagickcore-6.q16-6-extra amd64 8:6.9.11.60+dfsg-1.3ubuntu0.22.04.3 [70.1 kB]\n",
            "Get:25 http://archive.ubuntu.com/ubuntu jammy/universe amd64 libnetpbm10 amd64 2:10.0-15.4 [59.1 kB]\n",
            "Get:26 http://archive.ubuntu.com/ubuntu jammy/universe amd64 netpbm amd64 2:10.0-15.4 [1,007 kB]\n",
            "Fetched 25.1 MB in 4s (6,852 kB/s)\n",
            "Selecting previously unselected package fonts-droid-fallback.\n",
            "(Reading database ... 120874 files and directories currently installed.)\n",
            "Preparing to unpack .../00-fonts-droid-fallback_1%3a6.0.1r16-1.1build1_all.deb ...\n",
            "Unpacking fonts-droid-fallback (1:6.0.1r16-1.1build1) ...\n",
            "Selecting previously unselected package libfftw3-double3:amd64.\n",
            "Preparing to unpack .../01-libfftw3-double3_3.3.8-2ubuntu8_amd64.deb ...\n",
            "Unpacking libfftw3-double3:amd64 (3.3.8-2ubuntu8) ...\n",
            "Selecting previously unselected package liblqr-1-0:amd64.\n",
            "Preparing to unpack .../02-liblqr-1-0_0.4.2-2.1_amd64.deb ...\n",
            "Unpacking liblqr-1-0:amd64 (0.4.2-2.1) ...\n",
            "Selecting previously unselected package imagemagick-6-common.\n",
            "Preparing to unpack .../03-imagemagick-6-common_8%3a6.9.11.60+dfsg-1.3ubuntu0.22.04.3_all.deb ...\n",
            "Unpacking imagemagick-6-common (8:6.9.11.60+dfsg-1.3ubuntu0.22.04.3) ...\n",
            "Selecting previously unselected package libmagickcore-6.q16-6:amd64.\n",
            "Preparing to unpack .../04-libmagickcore-6.q16-6_8%3a6.9.11.60+dfsg-1.3ubuntu0.22.04.3_amd64.deb ...\n",
            "Unpacking libmagickcore-6.q16-6:amd64 (8:6.9.11.60+dfsg-1.3ubuntu0.22.04.3) ...\n",
            "Selecting previously unselected package libmagickwand-6.q16-6:amd64.\n",
            "Preparing to unpack .../05-libmagickwand-6.q16-6_8%3a6.9.11.60+dfsg-1.3ubuntu0.22.04.3_amd64.deb ...\n",
            "Unpacking libmagickwand-6.q16-6:amd64 (8:6.9.11.60+dfsg-1.3ubuntu0.22.04.3) ...\n",
            "Selecting previously unselected package poppler-data.\n",
            "Preparing to unpack .../06-poppler-data_0.4.11-1_all.deb ...\n",
            "Unpacking poppler-data (0.4.11-1) ...\n",
            "Selecting previously unselected package fonts-noto-mono.\n",
            "Preparing to unpack .../07-fonts-noto-mono_20201225-1build1_all.deb ...\n",
            "Unpacking fonts-noto-mono (20201225-1build1) ...\n",
            "Selecting previously unselected package fonts-urw-base35.\n",
            "Preparing to unpack .../08-fonts-urw-base35_20200910-1_all.deb ...\n",
            "Unpacking fonts-urw-base35 (20200910-1) ...\n",
            "Selecting previously unselected package libgs9-common.\n",
            "Preparing to unpack .../09-libgs9-common_9.55.0~dfsg1-0ubuntu5.5_all.deb ...\n",
            "Unpacking libgs9-common (9.55.0~dfsg1-0ubuntu5.5) ...\n",
            "Selecting previously unselected package libidn12:amd64.\n",
            "Preparing to unpack .../10-libidn12_1.38-4ubuntu1_amd64.deb ...\n",
            "Unpacking libidn12:amd64 (1.38-4ubuntu1) ...\n",
            "Selecting previously unselected package libijs-0.35:amd64.\n",
            "Preparing to unpack .../11-libijs-0.35_0.35-15build2_amd64.deb ...\n",
            "Unpacking libijs-0.35:amd64 (0.35-15build2) ...\n",
            "Selecting previously unselected package libjbig2dec0:amd64.\n",
            "Preparing to unpack .../12-libjbig2dec0_0.19-3build2_amd64.deb ...\n",
            "Unpacking libjbig2dec0:amd64 (0.19-3build2) ...\n",
            "Selecting previously unselected package libgs9:amd64.\n",
            "Preparing to unpack .../13-libgs9_9.55.0~dfsg1-0ubuntu5.5_amd64.deb ...\n",
            "Unpacking libgs9:amd64 (9.55.0~dfsg1-0ubuntu5.5) ...\n",
            "Selecting previously unselected package ghostscript.\n",
            "Preparing to unpack .../14-ghostscript_9.55.0~dfsg1-0ubuntu5.5_amd64.deb ...\n",
            "Unpacking ghostscript (9.55.0~dfsg1-0ubuntu5.5) ...\n",
            "Selecting previously unselected package gsfonts.\n",
            "Preparing to unpack .../15-gsfonts_1%3a8.11+urwcyr1.0.7~pre44-4.5_all.deb ...\n",
            "Unpacking gsfonts (1:8.11+urwcyr1.0.7~pre44-4.5) ...\n",
            "Selecting previously unselected package imagemagick-6.q16.\n",
            "Preparing to unpack .../16-imagemagick-6.q16_8%3a6.9.11.60+dfsg-1.3ubuntu0.22.04.3_amd64.deb ...\n",
            "Unpacking imagemagick-6.q16 (8:6.9.11.60+dfsg-1.3ubuntu0.22.04.3) ...\n",
            "Selecting previously unselected package imagemagick.\n",
            "Preparing to unpack .../17-imagemagick_8%3a6.9.11.60+dfsg-1.3ubuntu0.22.04.3_amd64.deb ...\n",
            "Unpacking imagemagick (8:6.9.11.60+dfsg-1.3ubuntu0.22.04.3) ...\n",
            "Selecting previously unselected package libdjvulibre-text.\n",
            "Preparing to unpack .../18-libdjvulibre-text_3.5.28-2build2_all.deb ...\n",
            "Unpacking libdjvulibre-text (3.5.28-2build2) ...\n",
            "Selecting previously unselected package libdjvulibre21:amd64.\n",
            "Preparing to unpack .../19-libdjvulibre21_3.5.28-2build2_amd64.deb ...\n",
            "Unpacking libdjvulibre21:amd64 (3.5.28-2build2) ...\n",
            "Selecting previously unselected package libjxr0:amd64.\n",
            "Preparing to unpack .../20-libjxr0_1.2~git20170615.f752187-5_amd64.deb ...\n",
            "Unpacking libjxr0:amd64 (1.2~git20170615.f752187-5) ...\n",
            "Selecting previously unselected package libjxr-tools.\n",
            "Preparing to unpack .../21-libjxr-tools_1.2~git20170615.f752187-5_amd64.deb ...\n",
            "Unpacking libjxr-tools (1.2~git20170615.f752187-5) ...\n",
            "Selecting previously unselected package libwmflite-0.2-7:amd64.\n",
            "Preparing to unpack .../22-libwmflite-0.2-7_0.2.12-5ubuntu1_amd64.deb ...\n",
            "Unpacking libwmflite-0.2-7:amd64 (0.2.12-5ubuntu1) ...\n",
            "Selecting previously unselected package libmagickcore-6.q16-6-extra:amd64.\n",
            "Preparing to unpack .../23-libmagickcore-6.q16-6-extra_8%3a6.9.11.60+dfsg-1.3ubuntu0.22.04.3_amd64.deb ...\n",
            "Unpacking libmagickcore-6.q16-6-extra:amd64 (8:6.9.11.60+dfsg-1.3ubuntu0.22.04.3) ...\n",
            "Selecting previously unselected package libnetpbm10.\n",
            "Preparing to unpack .../24-libnetpbm10_2%3a10.0-15.4_amd64.deb ...\n",
            "Unpacking libnetpbm10 (2:10.0-15.4) ...\n",
            "Selecting previously unselected package netpbm.\n",
            "Preparing to unpack .../25-netpbm_2%3a10.0-15.4_amd64.deb ...\n",
            "Unpacking netpbm (2:10.0-15.4) ...\n",
            "Setting up imagemagick-6-common (8:6.9.11.60+dfsg-1.3ubuntu0.22.04.3) ...\n",
            "Setting up fonts-noto-mono (20201225-1build1) ...\n",
            "Setting up libwmflite-0.2-7:amd64 (0.2.12-5ubuntu1) ...\n",
            "Setting up libijs-0.35:amd64 (0.35-15build2) ...\n",
            "Setting up libjxr0:amd64 (1.2~git20170615.f752187-5) ...\n",
            "Setting up libnetpbm10 (2:10.0-15.4) ...\n",
            "Setting up fonts-urw-base35 (20200910-1) ...\n",
            "Setting up poppler-data (0.4.11-1) ...\n",
            "Setting up libjbig2dec0:amd64 (0.19-3build2) ...\n",
            "Setting up gsfonts (1:8.11+urwcyr1.0.7~pre44-4.5) ...\n",
            "Setting up libidn12:amd64 (1.38-4ubuntu1) ...\n",
            "Setting up netpbm (2:10.0-15.4) ...\n",
            "Setting up libfftw3-double3:amd64 (3.3.8-2ubuntu8) ...\n",
            "Setting up liblqr-1-0:amd64 (0.4.2-2.1) ...\n",
            "Setting up fonts-droid-fallback (1:6.0.1r16-1.1build1) ...\n",
            "Setting up libdjvulibre-text (3.5.28-2build2) ...\n",
            "Setting up libgs9-common (9.55.0~dfsg1-0ubuntu5.5) ...\n",
            "Setting up libjxr-tools (1.2~git20170615.f752187-5) ...\n",
            "Setting up libgs9:amd64 (9.55.0~dfsg1-0ubuntu5.5) ...\n",
            "Setting up libdjvulibre21:amd64 (3.5.28-2build2) ...\n",
            "Setting up ghostscript (9.55.0~dfsg1-0ubuntu5.5) ...\n",
            "Setting up libmagickcore-6.q16-6:amd64 (8:6.9.11.60+dfsg-1.3ubuntu0.22.04.3) ...\n",
            "Setting up libmagickwand-6.q16-6:amd64 (8:6.9.11.60+dfsg-1.3ubuntu0.22.04.3) ...\n",
            "Setting up libmagickcore-6.q16-6-extra:amd64 (8:6.9.11.60+dfsg-1.3ubuntu0.22.04.3) ...\n",
            "Setting up imagemagick-6.q16 (8:6.9.11.60+dfsg-1.3ubuntu0.22.04.3) ...\n",
            "update-alternatives: using /usr/bin/compare-im6.q16 to provide /usr/bin/compare (compare) in auto mode\n",
            "update-alternatives: using /usr/bin/compare-im6.q16 to provide /usr/bin/compare-im6 (compare-im6) in auto mode\n",
            "update-alternatives: using /usr/bin/animate-im6.q16 to provide /usr/bin/animate (animate) in auto mode\n",
            "update-alternatives: using /usr/bin/animate-im6.q16 to provide /usr/bin/animate-im6 (animate-im6) in auto mode\n",
            "update-alternatives: using /usr/bin/convert-im6.q16 to provide /usr/bin/convert (convert) in auto mode\n",
            "update-alternatives: using /usr/bin/convert-im6.q16 to provide /usr/bin/convert-im6 (convert-im6) in auto mode\n",
            "update-alternatives: using /usr/bin/composite-im6.q16 to provide /usr/bin/composite (composite) in auto mode\n",
            "update-alternatives: using /usr/bin/composite-im6.q16 to provide /usr/bin/composite-im6 (composite-im6) in auto mode\n",
            "update-alternatives: using /usr/bin/conjure-im6.q16 to provide /usr/bin/conjure (conjure) in auto mode\n",
            "update-alternatives: using /usr/bin/conjure-im6.q16 to provide /usr/bin/conjure-im6 (conjure-im6) in auto mode\n",
            "update-alternatives: using /usr/bin/import-im6.q16 to provide /usr/bin/import (import) in auto mode\n",
            "update-alternatives: using /usr/bin/import-im6.q16 to provide /usr/bin/import-im6 (import-im6) in auto mode\n",
            "update-alternatives: using /usr/bin/identify-im6.q16 to provide /usr/bin/identify (identify) in auto mode\n",
            "update-alternatives: using /usr/bin/identify-im6.q16 to provide /usr/bin/identify-im6 (identify-im6) in auto mode\n",
            "update-alternatives: using /usr/bin/stream-im6.q16 to provide /usr/bin/stream (stream) in auto mode\n",
            "update-alternatives: using /usr/bin/stream-im6.q16 to provide /usr/bin/stream-im6 (stream-im6) in auto mode\n",
            "update-alternatives: using /usr/bin/display-im6.q16 to provide /usr/bin/display (display) in auto mode\n",
            "update-alternatives: using /usr/bin/display-im6.q16 to provide /usr/bin/display-im6 (display-im6) in auto mode\n",
            "update-alternatives: using /usr/bin/montage-im6.q16 to provide /usr/bin/montage (montage) in auto mode\n",
            "update-alternatives: using /usr/bin/montage-im6.q16 to provide /usr/bin/montage-im6 (montage-im6) in auto mode\n",
            "update-alternatives: using /usr/bin/mogrify-im6.q16 to provide /usr/bin/mogrify (mogrify) in auto mode\n",
            "update-alternatives: using /usr/bin/mogrify-im6.q16 to provide /usr/bin/mogrify-im6 (mogrify-im6) in auto mode\n",
            "Setting up imagemagick (8:6.9.11.60+dfsg-1.3ubuntu0.22.04.3) ...\n",
            "Processing triggers for hicolor-icon-theme (0.17-2) ...\n",
            "Processing triggers for libc-bin (2.35-0ubuntu3.1) ...\n",
            "/sbin/ldconfig.real: /usr/local/lib/libtbbmalloc.so.2 is not a symbolic link\n",
            "\n",
            "/sbin/ldconfig.real: /usr/local/lib/libtbbbind_2_5.so.3 is not a symbolic link\n",
            "\n",
            "/sbin/ldconfig.real: /usr/local/lib/libtbbbind.so.3 is not a symbolic link\n",
            "\n",
            "/sbin/ldconfig.real: /usr/local/lib/libtbbbind_2_0.so.3 is not a symbolic link\n",
            "\n",
            "/sbin/ldconfig.real: /usr/local/lib/libtbbmalloc_proxy.so.2 is not a symbolic link\n",
            "\n",
            "/sbin/ldconfig.real: /usr/local/lib/libtbb.so.12 is not a symbolic link\n",
            "\n",
            "Processing triggers for man-db (2.10.2-1) ...\n",
            "Processing triggers for fontconfig (2.13.1-4.2ubuntu5) ...\n",
            "Reading package lists... Done\n",
            "Building dependency tree... Done\n",
            "Reading state information... Done\n",
            "The following additional packages will be installed:\n",
            "  libpoppler-glib8\n",
            "The following NEW packages will be installed:\n",
            "  libpoppler-glib8 pdf2svg\n",
            "0 upgraded, 2 newly installed, 0 to remove and 18 not upgraded.\n",
            "Need to get 140 kB of archives.\n",
            "After this operation, 514 kB of additional disk space will be used.\n",
            "Get:1 http://archive.ubuntu.com/ubuntu jammy-updates/main amd64 libpoppler-glib8 amd64 22.02.0-2ubuntu0.2 [134 kB]\n",
            "Get:2 http://archive.ubuntu.com/ubuntu jammy/universe amd64 pdf2svg amd64 0.2.3-2 [6,888 B]\n",
            "Fetched 140 kB in 1s (223 kB/s)\n",
            "Selecting previously unselected package libpoppler-glib8:amd64.\n",
            "(Reading database ... 123016 files and directories currently installed.)\n",
            "Preparing to unpack .../libpoppler-glib8_22.02.0-2ubuntu0.2_amd64.deb ...\n",
            "Unpacking libpoppler-glib8:amd64 (22.02.0-2ubuntu0.2) ...\n",
            "Selecting previously unselected package pdf2svg.\n",
            "Preparing to unpack .../pdf2svg_0.2.3-2_amd64.deb ...\n",
            "Unpacking pdf2svg (0.2.3-2) ...\n",
            "Setting up libpoppler-glib8:amd64 (22.02.0-2ubuntu0.2) ...\n",
            "Setting up pdf2svg (0.2.3-2) ...\n",
            "Processing triggers for man-db (2.10.2-1) ...\n",
            "Processing triggers for libc-bin (2.35-0ubuntu3.1) ...\n",
            "/sbin/ldconfig.real: /usr/local/lib/libtbbmalloc.so.2 is not a symbolic link\n",
            "\n",
            "/sbin/ldconfig.real: /usr/local/lib/libtbbbind_2_5.so.3 is not a symbolic link\n",
            "\n",
            "/sbin/ldconfig.real: /usr/local/lib/libtbbbind.so.3 is not a symbolic link\n",
            "\n",
            "/sbin/ldconfig.real: /usr/local/lib/libtbbbind_2_0.so.3 is not a symbolic link\n",
            "\n",
            "/sbin/ldconfig.real: /usr/local/lib/libtbbmalloc_proxy.so.2 is not a symbolic link\n",
            "\n",
            "/sbin/ldconfig.real: /usr/local/lib/libtbb.so.12 is not a symbolic link\n",
            "\n",
            "Reading package lists... Done\n",
            "Building dependency tree... Done\n",
            "Reading state information... Done\n",
            "The following additional packages will be installed:\n",
            "  dvisvgm fonts-lmodern libfontenc1 libkpathsea6 libptexenc1 libsynctex2\n",
            "  libteckit0 libtexlua53 libtexluajit2 libwoff1 libzzip-0-13 lmodern t1utils\n",
            "  tex-common texlive-base texlive-binaries texlive-latex-base xfonts-encodings\n",
            "  xfonts-utils\n",
            "Suggested packages:\n",
            "  debhelper perl-tk xpdf | pdf-viewer xzdec texlive-latex-base-doc\n",
            "  texlive-latex-recommended-doc texlive-luatex texlive-pstricks\n",
            "The following NEW packages will be installed:\n",
            "  dvisvgm fonts-lmodern libfontenc1 libkpathsea6 libptexenc1 libsynctex2\n",
            "  libteckit0 libtexlua53 libtexluajit2 libwoff1 libzzip-0-13 lmodern t1utils\n",
            "  tex-common texlive-base texlive-binaries texlive-latex-base\n",
            "  texlive-latex-recommended xfonts-encodings xfonts-utils\n",
            "0 upgraded, 20 newly installed, 0 to remove and 18 not upgraded.\n",
            "Need to get 63.4 MB of archives.\n",
            "After this operation, 191 MB of additional disk space will be used.\n",
            "Get:1 http://archive.ubuntu.com/ubuntu jammy/universe amd64 tex-common all 6.17 [33.7 kB]\n",
            "Get:2 http://archive.ubuntu.com/ubuntu jammy-updates/main amd64 libkpathsea6 amd64 2021.20210626.59705-1ubuntu0.1 [60.3 kB]\n",
            "Get:3 http://archive.ubuntu.com/ubuntu jammy/main amd64 libwoff1 amd64 1.0.2-1build4 [45.2 kB]\n",
            "Get:4 http://archive.ubuntu.com/ubuntu jammy/universe amd64 dvisvgm amd64 2.13.1-1 [1,221 kB]\n",
            "Get:5 http://archive.ubuntu.com/ubuntu jammy/universe amd64 fonts-lmodern all 2.004.5-6.1 [4,532 kB]\n",
            "Get:6 http://archive.ubuntu.com/ubuntu jammy/main amd64 libfontenc1 amd64 1:1.1.4-1build3 [14.7 kB]\n",
            "Get:7 http://archive.ubuntu.com/ubuntu jammy-updates/main amd64 libptexenc1 amd64 2021.20210626.59705-1ubuntu0.1 [39.1 kB]\n",
            "Get:8 http://archive.ubuntu.com/ubuntu jammy-updates/main amd64 libsynctex2 amd64 2021.20210626.59705-1ubuntu0.1 [55.5 kB]\n",
            "Get:9 http://archive.ubuntu.com/ubuntu jammy/universe amd64 libteckit0 amd64 2.5.11+ds1-1 [421 kB]\n",
            "Get:10 http://archive.ubuntu.com/ubuntu jammy-updates/main amd64 libtexlua53 amd64 2021.20210626.59705-1ubuntu0.1 [120 kB]\n",
            "Get:11 http://archive.ubuntu.com/ubuntu jammy-updates/main amd64 libtexluajit2 amd64 2021.20210626.59705-1ubuntu0.1 [267 kB]\n",
            "Get:12 http://archive.ubuntu.com/ubuntu jammy/universe amd64 libzzip-0-13 amd64 0.13.72+dfsg.1-1.1 [27.0 kB]\n",
            "Get:13 http://archive.ubuntu.com/ubuntu jammy/main amd64 xfonts-encodings all 1:1.0.5-0ubuntu2 [578 kB]\n",
            "Get:14 http://archive.ubuntu.com/ubuntu jammy/main amd64 xfonts-utils amd64 1:7.7+6build2 [94.6 kB]\n",
            "Get:15 http://archive.ubuntu.com/ubuntu jammy/universe amd64 lmodern all 2.004.5-6.1 [9,471 kB]\n",
            "Get:16 http://archive.ubuntu.com/ubuntu jammy/main amd64 t1utils amd64 1.41-4build2 [61.3 kB]\n",
            "Get:17 http://archive.ubuntu.com/ubuntu jammy-updates/universe amd64 texlive-binaries amd64 2021.20210626.59705-1ubuntu0.1 [9,848 kB]\n",
            "Get:18 http://archive.ubuntu.com/ubuntu jammy/universe amd64 texlive-base all 2021.20220204-1 [21.0 MB]\n",
            "Get:19 http://archive.ubuntu.com/ubuntu jammy/universe amd64 texlive-latex-base all 2021.20220204-1 [1,128 kB]\n",
            "Get:20 http://archive.ubuntu.com/ubuntu jammy/universe amd64 texlive-latex-recommended all 2021.20220204-1 [14.4 MB]\n",
            "Fetched 63.4 MB in 4s (16.0 MB/s)\n",
            "debconf: unable to initialize frontend: Dialog\n",
            "debconf: (No usable dialog-like program is installed, so the dialog based frontend cannot be used. at /usr/share/perl5/Debconf/FrontEnd/Dialog.pm line 78, <> line 20.)\n",
            "debconf: falling back to frontend: Readline\n",
            "debconf: unable to initialize frontend: Readline\n",
            "debconf: (This frontend requires a controlling tty.)\n",
            "debconf: falling back to frontend: Teletype\n",
            "dpkg-preconfigure: unable to re-open stdin: \n",
            "Selecting previously unselected package tex-common.\n",
            "(Reading database ... 123026 files and directories currently installed.)\n",
            "Preparing to unpack .../00-tex-common_6.17_all.deb ...\n",
            "Unpacking tex-common (6.17) ...\n",
            "Selecting previously unselected package libkpathsea6:amd64.\n",
            "Preparing to unpack .../01-libkpathsea6_2021.20210626.59705-1ubuntu0.1_amd64.deb ...\n",
            "Unpacking libkpathsea6:amd64 (2021.20210626.59705-1ubuntu0.1) ...\n",
            "Selecting previously unselected package libwoff1:amd64.\n",
            "Preparing to unpack .../02-libwoff1_1.0.2-1build4_amd64.deb ...\n",
            "Unpacking libwoff1:amd64 (1.0.2-1build4) ...\n",
            "Selecting previously unselected package dvisvgm.\n",
            "Preparing to unpack .../03-dvisvgm_2.13.1-1_amd64.deb ...\n",
            "Unpacking dvisvgm (2.13.1-1) ...\n",
            "Selecting previously unselected package fonts-lmodern.\n",
            "Preparing to unpack .../04-fonts-lmodern_2.004.5-6.1_all.deb ...\n",
            "Unpacking fonts-lmodern (2.004.5-6.1) ...\n",
            "Selecting previously unselected package libfontenc1:amd64.\n",
            "Preparing to unpack .../05-libfontenc1_1%3a1.1.4-1build3_amd64.deb ...\n",
            "Unpacking libfontenc1:amd64 (1:1.1.4-1build3) ...\n",
            "Selecting previously unselected package libptexenc1:amd64.\n",
            "Preparing to unpack .../06-libptexenc1_2021.20210626.59705-1ubuntu0.1_amd64.deb ...\n",
            "Unpacking libptexenc1:amd64 (2021.20210626.59705-1ubuntu0.1) ...\n",
            "Selecting previously unselected package libsynctex2:amd64.\n",
            "Preparing to unpack .../07-libsynctex2_2021.20210626.59705-1ubuntu0.1_amd64.deb ...\n",
            "Unpacking libsynctex2:amd64 (2021.20210626.59705-1ubuntu0.1) ...\n",
            "Selecting previously unselected package libteckit0:amd64.\n",
            "Preparing to unpack .../08-libteckit0_2.5.11+ds1-1_amd64.deb ...\n",
            "Unpacking libteckit0:amd64 (2.5.11+ds1-1) ...\n",
            "Selecting previously unselected package libtexlua53:amd64.\n",
            "Preparing to unpack .../09-libtexlua53_2021.20210626.59705-1ubuntu0.1_amd64.deb ...\n",
            "Unpacking libtexlua53:amd64 (2021.20210626.59705-1ubuntu0.1) ...\n",
            "Selecting previously unselected package libtexluajit2:amd64.\n",
            "Preparing to unpack .../10-libtexluajit2_2021.20210626.59705-1ubuntu0.1_amd64.deb ...\n",
            "Unpacking libtexluajit2:amd64 (2021.20210626.59705-1ubuntu0.1) ...\n",
            "Selecting previously unselected package libzzip-0-13:amd64.\n",
            "Preparing to unpack .../11-libzzip-0-13_0.13.72+dfsg.1-1.1_amd64.deb ...\n",
            "Unpacking libzzip-0-13:amd64 (0.13.72+dfsg.1-1.1) ...\n",
            "Selecting previously unselected package xfonts-encodings.\n",
            "Preparing to unpack .../12-xfonts-encodings_1%3a1.0.5-0ubuntu2_all.deb ...\n",
            "Unpacking xfonts-encodings (1:1.0.5-0ubuntu2) ...\n",
            "Selecting previously unselected package xfonts-utils.\n",
            "Preparing to unpack .../13-xfonts-utils_1%3a7.7+6build2_amd64.deb ...\n",
            "Unpacking xfonts-utils (1:7.7+6build2) ...\n",
            "Selecting previously unselected package lmodern.\n",
            "Preparing to unpack .../14-lmodern_2.004.5-6.1_all.deb ...\n",
            "Unpacking lmodern (2.004.5-6.1) ...\n",
            "Selecting previously unselected package t1utils.\n",
            "Preparing to unpack .../15-t1utils_1.41-4build2_amd64.deb ...\n",
            "Unpacking t1utils (1.41-4build2) ...\n",
            "Selecting previously unselected package texlive-binaries.\n",
            "Preparing to unpack .../16-texlive-binaries_2021.20210626.59705-1ubuntu0.1_amd64.deb ...\n",
            "Unpacking texlive-binaries (2021.20210626.59705-1ubuntu0.1) ...\n",
            "Selecting previously unselected package texlive-base.\n",
            "Preparing to unpack .../17-texlive-base_2021.20220204-1_all.deb ...\n",
            "Unpacking texlive-base (2021.20220204-1) ...\n",
            "Selecting previously unselected package texlive-latex-base.\n",
            "Preparing to unpack .../18-texlive-latex-base_2021.20220204-1_all.deb ...\n",
            "Unpacking texlive-latex-base (2021.20220204-1) ...\n",
            "Selecting previously unselected package texlive-latex-recommended.\n",
            "Preparing to unpack .../19-texlive-latex-recommended_2021.20220204-1_all.deb ...\n",
            "Unpacking texlive-latex-recommended (2021.20220204-1) ...\n",
            "Setting up libwoff1:amd64 (1.0.2-1build4) ...\n",
            "Setting up libtexlua53:amd64 (2021.20210626.59705-1ubuntu0.1) ...\n",
            "Setting up libtexluajit2:amd64 (2021.20210626.59705-1ubuntu0.1) ...\n",
            "Setting up libzzip-0-13:amd64 (0.13.72+dfsg.1-1.1) ...\n",
            "Setting up tex-common (6.17) ...\n",
            "debconf: unable to initialize frontend: Dialog\n",
            "debconf: (No usable dialog-like program is installed, so the dialog based frontend cannot be used. at /usr/share/perl5/Debconf/FrontEnd/Dialog.pm line 78.)\n",
            "debconf: falling back to frontend: Readline\n",
            "update-language: texlive-base not installed and configured, doing nothing!\n",
            "Setting up libfontenc1:amd64 (1:1.1.4-1build3) ...\n",
            "Setting up libteckit0:amd64 (2.5.11+ds1-1) ...\n",
            "Setting up xfonts-encodings (1:1.0.5-0ubuntu2) ...\n",
            "Setting up t1utils (1.41-4build2) ...\n",
            "Setting up libkpathsea6:amd64 (2021.20210626.59705-1ubuntu0.1) ...\n",
            "Setting up fonts-lmodern (2.004.5-6.1) ...\n",
            "Setting up libsynctex2:amd64 (2021.20210626.59705-1ubuntu0.1) ...\n",
            "Setting up dvisvgm (2.13.1-1) ...\n",
            "Setting up xfonts-utils (1:7.7+6build2) ...\n",
            "Setting up libptexenc1:amd64 (2021.20210626.59705-1ubuntu0.1) ...\n",
            "Setting up texlive-binaries (2021.20210626.59705-1ubuntu0.1) ...\n",
            "update-alternatives: using /usr/bin/xdvi-xaw to provide /usr/bin/xdvi.bin (xdvi.bin) in auto mode\n",
            "update-alternatives: using /usr/bin/bibtex.original to provide /usr/bin/bibtex (bibtex) in auto mode\n",
            "Setting up lmodern (2.004.5-6.1) ...\n",
            "Setting up texlive-base (2021.20220204-1) ...\n",
            "/usr/bin/ucfr\n",
            "/usr/bin/ucfr\n",
            "/usr/bin/ucfr\n",
            "/usr/bin/ucfr\n",
            "mktexlsr: Updating /var/lib/texmf/ls-R-TEXLIVEDIST... \n",
            "mktexlsr: Updating /var/lib/texmf/ls-R-TEXMFMAIN... \n",
            "mktexlsr: Updating /var/lib/texmf/ls-R... \n",
            "mktexlsr: Done.\n",
            "tl-paper: setting paper size for dvips to a4: /var/lib/texmf/dvips/config/config-paper.ps\n",
            "tl-paper: setting paper size for dvipdfmx to a4: /var/lib/texmf/dvipdfmx/dvipdfmx-paper.cfg\n",
            "tl-paper: setting paper size for xdvi to a4: /var/lib/texmf/xdvi/XDvi-paper\n",
            "tl-paper: setting paper size for pdftex to a4: /var/lib/texmf/tex/generic/tex-ini-files/pdftexconfig.tex\n",
            "debconf: unable to initialize frontend: Dialog\n",
            "debconf: (No usable dialog-like program is installed, so the dialog based frontend cannot be used. at /usr/share/perl5/Debconf/FrontEnd/Dialog.pm line 78.)\n",
            "debconf: falling back to frontend: Readline\n",
            "Setting up texlive-latex-base (2021.20220204-1) ...\n",
            "Setting up texlive-latex-recommended (2021.20220204-1) ...\n",
            "Processing triggers for libc-bin (2.35-0ubuntu3.1) ...\n",
            "/sbin/ldconfig.real: /usr/local/lib/libtbbmalloc.so.2 is not a symbolic link\n",
            "\n",
            "/sbin/ldconfig.real: /usr/local/lib/libtbbbind_2_5.so.3 is not a symbolic link\n",
            "\n",
            "/sbin/ldconfig.real: /usr/local/lib/libtbbbind.so.3 is not a symbolic link\n",
            "\n",
            "/sbin/ldconfig.real: /usr/local/lib/libtbbbind_2_0.so.3 is not a symbolic link\n",
            "\n",
            "/sbin/ldconfig.real: /usr/local/lib/libtbbmalloc_proxy.so.2 is not a symbolic link\n",
            "\n",
            "/sbin/ldconfig.real: /usr/local/lib/libtbb.so.12 is not a symbolic link\n",
            "\n",
            "Processing triggers for man-db (2.10.2-1) ...\n",
            "Processing triggers for fontconfig (2.13.1-4.2ubuntu5) ...\n",
            "Processing triggers for tex-common (6.17) ...\n",
            "debconf: unable to initialize frontend: Dialog\n",
            "debconf: (No usable dialog-like program is installed, so the dialog based frontend cannot be used. at /usr/share/perl5/Debconf/FrontEnd/Dialog.pm line 78.)\n",
            "debconf: falling back to frontend: Readline\n",
            "Running updmap-sys. This may take some time... done.\n",
            "Running mktexlsr /var/lib/texmf ... done.\n",
            "Building format(s) --all.\n",
            "\tThis may take some time... done.\n",
            "Reading package lists... Done\n",
            "Building dependency tree... Done\n",
            "Reading state information... Done\n",
            "The following additional packages will be installed:\n",
            "  fonts-lato fonts-texgyre libapache-pom-java libcommons-logging-java\n",
            "  libcommons-parent-java libfontbox-java libpdfbox-java libruby3.0\n",
            "  preview-latex-style rake ruby ruby-net-telnet ruby-rubygems ruby-webrick\n",
            "  ruby-xmlrpc ruby3.0 rubygems-integration tex-gyre texlive-fonts-recommended\n",
            "  texlive-pictures texlive-plain-generic tipa\n",
            "Suggested packages:\n",
            "  libavalon-framework-java libcommons-logging-java-doc\n",
            "  libexcalibur-logkit-java liblog4j1.2-java ri ruby-dev bundler\n",
            "  texlive-fonts-recommended-doc python3-pygments icc-profiles\n",
            "  libfile-which-perl libspreadsheet-parseexcel-perl texlive-latex-extra-doc\n",
            "  dot2tex prerex texlive-pictures-doc vprerex default-jre-headless tipa-doc\n",
            "The following NEW packages will be installed:\n",
            "  fonts-lato fonts-texgyre libapache-pom-java libcommons-logging-java\n",
            "  libcommons-parent-java libfontbox-java libpdfbox-java libruby3.0\n",
            "  preview-latex-style rake ruby ruby-net-telnet ruby-rubygems ruby-webrick\n",
            "  ruby-xmlrpc ruby3.0 rubygems-integration tex-gyre texlive-fonts-recommended\n",
            "  texlive-latex-extra texlive-pictures texlive-plain-generic tipa\n",
            "0 upgraded, 23 newly installed, 0 to remove and 18 not upgraded.\n",
            "Need to get 88.4 MB of archives.\n",
            "After this operation, 298 MB of additional disk space will be used.\n",
            "Get:1 http://archive.ubuntu.com/ubuntu jammy/main amd64 fonts-lato all 2.0-2.1 [2,696 kB]\n",
            "Get:2 http://archive.ubuntu.com/ubuntu jammy/universe amd64 fonts-texgyre all 20180621-3.1 [10.2 MB]\n",
            "Get:3 http://archive.ubuntu.com/ubuntu jammy/universe amd64 libapache-pom-java all 18-1 [4,720 B]\n",
            "Get:4 http://archive.ubuntu.com/ubuntu jammy/universe amd64 libcommons-parent-java all 43-1 [10.8 kB]\n",
            "Get:5 http://archive.ubuntu.com/ubuntu jammy/universe amd64 libcommons-logging-java all 1.2-2 [60.3 kB]\n",
            "Get:6 http://archive.ubuntu.com/ubuntu jammy/main amd64 rubygems-integration all 1.18 [5,336 B]\n",
            "Get:7 http://archive.ubuntu.com/ubuntu jammy-updates/main amd64 ruby3.0 amd64 3.0.2-7ubuntu2.4 [50.1 kB]\n",
            "Get:8 http://archive.ubuntu.com/ubuntu jammy/main amd64 ruby-rubygems all 3.3.5-2 [228 kB]\n",
            "Get:9 http://archive.ubuntu.com/ubuntu jammy/main amd64 ruby amd64 1:3.0~exp1 [5,100 B]\n",
            "Get:10 http://archive.ubuntu.com/ubuntu jammy/main amd64 rake all 13.0.6-2 [61.7 kB]\n",
            "Get:11 http://archive.ubuntu.com/ubuntu jammy/main amd64 ruby-net-telnet all 0.1.1-2 [12.6 kB]\n",
            "Get:12 http://archive.ubuntu.com/ubuntu jammy/universe amd64 ruby-webrick all 1.7.0-3 [51.8 kB]\n",
            "Get:13 http://archive.ubuntu.com/ubuntu jammy-updates/main amd64 ruby-xmlrpc all 0.3.2-1ubuntu0.1 [24.9 kB]\n",
            "Get:14 http://archive.ubuntu.com/ubuntu jammy-updates/main amd64 libruby3.0 amd64 3.0.2-7ubuntu2.4 [5,113 kB]\n",
            "Get:15 http://archive.ubuntu.com/ubuntu jammy/universe amd64 preview-latex-style all 12.2-1ubuntu1 [185 kB]\n",
            "Get:16 http://archive.ubuntu.com/ubuntu jammy/universe amd64 tex-gyre all 20180621-3.1 [6,209 kB]\n",
            "Get:17 http://archive.ubuntu.com/ubuntu jammy/universe amd64 texlive-fonts-recommended all 2021.20220204-1 [4,972 kB]\n",
            "Get:18 http://archive.ubuntu.com/ubuntu jammy/universe amd64 libfontbox-java all 1:1.8.16-2 [207 kB]\n",
            "Get:19 http://archive.ubuntu.com/ubuntu jammy/universe amd64 libpdfbox-java all 1:1.8.16-2 [5,199 kB]\n",
            "Get:20 http://archive.ubuntu.com/ubuntu jammy/universe amd64 texlive-pictures all 2021.20220204-1 [8,720 kB]\n",
            "Get:21 http://archive.ubuntu.com/ubuntu jammy/universe amd64 texlive-latex-extra all 2021.20220204-1 [13.9 MB]\n",
            "Get:22 http://archive.ubuntu.com/ubuntu jammy/universe amd64 texlive-plain-generic all 2021.20220204-1 [27.5 MB]\n",
            "Get:23 http://archive.ubuntu.com/ubuntu jammy/universe amd64 tipa all 2:1.3-21 [2,967 kB]\n",
            "Fetched 88.4 MB in 2s (51.5 MB/s)\n",
            "debconf: unable to initialize frontend: Dialog\n",
            "debconf: (No usable dialog-like program is installed, so the dialog based frontend cannot be used. at /usr/share/perl5/Debconf/FrontEnd/Dialog.pm line 78, <> line 23.)\n",
            "debconf: falling back to frontend: Readline\n",
            "debconf: unable to initialize frontend: Readline\n",
            "debconf: (This frontend requires a controlling tty.)\n",
            "debconf: falling back to frontend: Teletype\n",
            "dpkg-preconfigure: unable to re-open stdin: \n",
            "Selecting previously unselected package fonts-lato.\n",
            "(Reading database ... 131505 files and directories currently installed.)\n",
            "Preparing to unpack .../00-fonts-lato_2.0-2.1_all.deb ...\n",
            "Unpacking fonts-lato (2.0-2.1) ...\n",
            "Selecting previously unselected package fonts-texgyre.\n",
            "Preparing to unpack .../01-fonts-texgyre_20180621-3.1_all.deb ...\n",
            "Unpacking fonts-texgyre (20180621-3.1) ...\n",
            "Selecting previously unselected package libapache-pom-java.\n",
            "Preparing to unpack .../02-libapache-pom-java_18-1_all.deb ...\n",
            "Unpacking libapache-pom-java (18-1) ...\n",
            "Selecting previously unselected package libcommons-parent-java.\n",
            "Preparing to unpack .../03-libcommons-parent-java_43-1_all.deb ...\n",
            "Unpacking libcommons-parent-java (43-1) ...\n",
            "Selecting previously unselected package libcommons-logging-java.\n",
            "Preparing to unpack .../04-libcommons-logging-java_1.2-2_all.deb ...\n",
            "Unpacking libcommons-logging-java (1.2-2) ...\n",
            "Selecting previously unselected package rubygems-integration.\n",
            "Preparing to unpack .../05-rubygems-integration_1.18_all.deb ...\n",
            "Unpacking rubygems-integration (1.18) ...\n",
            "Selecting previously unselected package ruby3.0.\n",
            "Preparing to unpack .../06-ruby3.0_3.0.2-7ubuntu2.4_amd64.deb ...\n",
            "Unpacking ruby3.0 (3.0.2-7ubuntu2.4) ...\n",
            "Selecting previously unselected package ruby-rubygems.\n",
            "Preparing to unpack .../07-ruby-rubygems_3.3.5-2_all.deb ...\n",
            "Unpacking ruby-rubygems (3.3.5-2) ...\n",
            "Selecting previously unselected package ruby.\n",
            "Preparing to unpack .../08-ruby_1%3a3.0~exp1_amd64.deb ...\n",
            "Unpacking ruby (1:3.0~exp1) ...\n",
            "Selecting previously unselected package rake.\n",
            "Preparing to unpack .../09-rake_13.0.6-2_all.deb ...\n",
            "Unpacking rake (13.0.6-2) ...\n",
            "Selecting previously unselected package ruby-net-telnet.\n",
            "Preparing to unpack .../10-ruby-net-telnet_0.1.1-2_all.deb ...\n",
            "Unpacking ruby-net-telnet (0.1.1-2) ...\n",
            "Selecting previously unselected package ruby-webrick.\n",
            "Preparing to unpack .../11-ruby-webrick_1.7.0-3_all.deb ...\n",
            "Unpacking ruby-webrick (1.7.0-3) ...\n",
            "Selecting previously unselected package ruby-xmlrpc.\n",
            "Preparing to unpack .../12-ruby-xmlrpc_0.3.2-1ubuntu0.1_all.deb ...\n",
            "Unpacking ruby-xmlrpc (0.3.2-1ubuntu0.1) ...\n",
            "Selecting previously unselected package libruby3.0:amd64.\n",
            "Preparing to unpack .../13-libruby3.0_3.0.2-7ubuntu2.4_amd64.deb ...\n",
            "Unpacking libruby3.0:amd64 (3.0.2-7ubuntu2.4) ...\n",
            "Selecting previously unselected package preview-latex-style.\n",
            "Preparing to unpack .../14-preview-latex-style_12.2-1ubuntu1_all.deb ...\n",
            "Unpacking preview-latex-style (12.2-1ubuntu1) ...\n",
            "Selecting previously unselected package tex-gyre.\n",
            "Preparing to unpack .../15-tex-gyre_20180621-3.1_all.deb ...\n",
            "Unpacking tex-gyre (20180621-3.1) ...\n",
            "Selecting previously unselected package texlive-fonts-recommended.\n",
            "Preparing to unpack .../16-texlive-fonts-recommended_2021.20220204-1_all.deb ...\n",
            "Unpacking texlive-fonts-recommended (2021.20220204-1) ...\n",
            "Selecting previously unselected package libfontbox-java.\n",
            "Preparing to unpack .../17-libfontbox-java_1%3a1.8.16-2_all.deb ...\n",
            "Unpacking libfontbox-java (1:1.8.16-2) ...\n",
            "Selecting previously unselected package libpdfbox-java.\n",
            "Preparing to unpack .../18-libpdfbox-java_1%3a1.8.16-2_all.deb ...\n",
            "Unpacking libpdfbox-java (1:1.8.16-2) ...\n",
            "Selecting previously unselected package texlive-pictures.\n",
            "Preparing to unpack .../19-texlive-pictures_2021.20220204-1_all.deb ...\n",
            "Unpacking texlive-pictures (2021.20220204-1) ...\n",
            "Selecting previously unselected package texlive-latex-extra.\n",
            "Preparing to unpack .../20-texlive-latex-extra_2021.20220204-1_all.deb ...\n",
            "Unpacking texlive-latex-extra (2021.20220204-1) ...\n",
            "Selecting previously unselected package texlive-plain-generic.\n",
            "Preparing to unpack .../21-texlive-plain-generic_2021.20220204-1_all.deb ...\n",
            "Unpacking texlive-plain-generic (2021.20220204-1) ...\n",
            "Selecting previously unselected package tipa.\n",
            "Preparing to unpack .../22-tipa_2%3a1.3-21_all.deb ...\n",
            "Unpacking tipa (2:1.3-21) ...\n",
            "Setting up fonts-lato (2.0-2.1) ...\n",
            "Setting up preview-latex-style (12.2-1ubuntu1) ...\n",
            "Setting up libfontbox-java (1:1.8.16-2) ...\n",
            "Setting up texlive-plain-generic (2021.20220204-1) ...\n",
            "Setting up rubygems-integration (1.18) ...\n",
            "Setting up libapache-pom-java (18-1) ...\n",
            "Setting up ruby-net-telnet (0.1.1-2) ...\n",
            "Setting up fonts-texgyre (20180621-3.1) ...\n",
            "Setting up texlive-pictures (2021.20220204-1) ...\n",
            "Setting up ruby-webrick (1.7.0-3) ...\n",
            "Setting up texlive-fonts-recommended (2021.20220204-1) ...\n",
            "Setting up tipa (2:1.3-21) ...\n",
            "Setting up ruby-xmlrpc (0.3.2-1ubuntu0.1) ...\n",
            "Setting up tex-gyre (20180621-3.1) ...\n",
            "Setting up libpdfbox-java (1:1.8.16-2) ...\n",
            "Setting up libcommons-parent-java (43-1) ...\n",
            "Setting up libcommons-logging-java (1.2-2) ...\n",
            "Setting up texlive-latex-extra (2021.20220204-1) ...\n",
            "Setting up libruby3.0:amd64 (3.0.2-7ubuntu2.4) ...\n",
            "Setting up ruby3.0 (3.0.2-7ubuntu2.4) ...\n",
            "Setting up ruby (1:3.0~exp1) ...\n",
            "Setting up rake (13.0.6-2) ...\n",
            "Setting up ruby-rubygems (3.3.5-2) ...\n",
            "Processing triggers for man-db (2.10.2-1) ...\n",
            "Processing triggers for tex-common (6.17) ...\n",
            "debconf: unable to initialize frontend: Dialog\n",
            "debconf: (No usable dialog-like program is installed, so the dialog based frontend cannot be used. at /usr/share/perl5/Debconf/FrontEnd/Dialog.pm line 78.)\n",
            "debconf: falling back to frontend: Readline\n",
            "Running mktexlsr. This may take some time... done.\n",
            "Running updmap-sys. This may take some time... done.\n",
            "Running mktexlsr /var/lib/texmf ... done.\n",
            "Building format(s) --all.\n",
            "\tThis may take some time... done.\n",
            "Processing triggers for fontconfig (2.13.1-4.2ubuntu5) ...\n",
            "Processing triggers for libc-bin (2.35-0ubuntu3.1) ...\n",
            "/sbin/ldconfig.real: /usr/local/lib/libtbbmalloc.so.2 is not a symbolic link\n",
            "\n",
            "/sbin/ldconfig.real: /usr/local/lib/libtbbbind_2_5.so.3 is not a symbolic link\n",
            "\n",
            "/sbin/ldconfig.real: /usr/local/lib/libtbbbind.so.3 is not a symbolic link\n",
            "\n",
            "/sbin/ldconfig.real: /usr/local/lib/libtbbbind_2_0.so.3 is not a symbolic link\n",
            "\n",
            "/sbin/ldconfig.real: /usr/local/lib/libtbbmalloc_proxy.so.2 is not a symbolic link\n",
            "\n",
            "/sbin/ldconfig.real: /usr/local/lib/libtbb.so.12 is not a symbolic link\n",
            "\n",
            "Reading package lists... Done\n",
            "Building dependency tree... Done\n",
            "Reading state information... Done\n",
            "The following NEW packages will be installed:\n",
            "  dvipng\n",
            "0 upgraded, 1 newly installed, 0 to remove and 18 not upgraded.\n",
            "Need to get 78.9 kB of archives.\n",
            "After this operation, 173 kB of additional disk space will be used.\n",
            "Get:1 http://archive.ubuntu.com/ubuntu jammy/universe amd64 dvipng amd64 1.15-1.1 [78.9 kB]\n",
            "Fetched 78.9 kB in 0s (498 kB/s)\n",
            "debconf: unable to initialize frontend: Dialog\n",
            "debconf: (No usable dialog-like program is installed, so the dialog based frontend cannot be used. at /usr/share/perl5/Debconf/FrontEnd/Dialog.pm line 78, <> line 1.)\n",
            "debconf: falling back to frontend: Readline\n",
            "debconf: unable to initialize frontend: Readline\n",
            "debconf: (This frontend requires a controlling tty.)\n",
            "debconf: falling back to frontend: Teletype\n",
            "dpkg-preconfigure: unable to re-open stdin: \n",
            "Selecting previously unselected package dvipng.\n",
            "(Reading database ... 158236 files and directories currently installed.)\n",
            "Preparing to unpack .../dvipng_1.15-1.1_amd64.deb ...\n",
            "Unpacking dvipng (1.15-1.1) ...\n",
            "Setting up dvipng (1.15-1.1) ...\n",
            "Processing triggers for man-db (2.10.2-1) ...\n",
            "Collecting Latex==0.7.0\n",
            "  Downloading latex-0.7.0.tar.gz (6.5 kB)\n",
            "  Preparing metadata (setup.py) ... \u001b[?25l\u001b[?25hdone\n",
            "Collecting tempdir (from Latex==0.7.0)\n",
            "  Downloading tempdir-0.7.1.tar.gz (5.9 kB)\n",
            "  Preparing metadata (setup.py) ... \u001b[?25l\u001b[?25hdone\n",
            "Collecting data (from Latex==0.7.0)\n",
            "  Downloading data-0.4.tar.gz (7.0 kB)\n",
            "  Preparing metadata (setup.py) ... \u001b[?25l\u001b[?25hdone\n",
            "Requirement already satisfied: future in /usr/local/lib/python3.10/dist-packages (from Latex==0.7.0) (0.18.3)\n",
            "Collecting shutilwhich (from Latex==0.7.0)\n",
            "  Downloading shutilwhich-1.1.0.tar.gz (2.3 kB)\n",
            "  Preparing metadata (setup.py) ... \u001b[?25l\u001b[?25hdone\n",
            "Requirement already satisfied: six in /usr/local/lib/python3.10/dist-packages (from data->Latex==0.7.0) (1.16.0)\n",
            "Requirement already satisfied: decorator in /usr/local/lib/python3.10/dist-packages (from data->Latex==0.7.0) (4.4.2)\n",
            "Collecting funcsigs (from data->Latex==0.7.0)\n",
            "  Downloading funcsigs-1.0.2-py2.py3-none-any.whl (17 kB)\n",
            "Building wheels for collected packages: Latex, data, shutilwhich, tempdir\n",
            "  Building wheel for Latex (setup.py) ... \u001b[?25l\u001b[?25hdone\n",
            "  Created wheel for Latex: filename=latex-0.7.0-py3-none-any.whl size=7588 sha256=66dca88963d8b23dd80f1865898cb20c047d67fa6324c298ebd53c31a0104d87\n",
            "  Stored in directory: /root/.cache/pip/wheels/7e/02/25/c00dfc203e8ba53dfc2e4e97d40e537263d6e03606681f3872\n",
            "  Building wheel for data (setup.py) ... \u001b[?25l\u001b[?25hdone\n",
            "  Created wheel for data: filename=data-0.4-py3-none-any.whl size=7226 sha256=72c55a22c009543bbaed9b30ff0ad7bcde82f19e7de5b0037d13696a716ebc2d\n",
            "  Stored in directory: /root/.cache/pip/wheels/d0/e8/fa/e253c256048ea58d99a8abb5e751abb6a838af6f12887b5418\n",
            "  Building wheel for shutilwhich (setup.py) ... \u001b[?25l\u001b[?25hdone\n",
            "  Created wheel for shutilwhich: filename=shutilwhich-1.1.0-py3-none-any.whl size=2766 sha256=28de44e0a03ab2695a294d31efc9fb9c75fff37840f471b5653cef36c92a2cc5\n",
            "  Stored in directory: /root/.cache/pip/wheels/75/1f/1c/0ecab7ceabad0b8e018891505911e82a6f358a0291e7681bae\n",
            "  Building wheel for tempdir (setup.py) ... \u001b[?25l\u001b[?25hdone\n",
            "  Created wheel for tempdir: filename=tempdir-0.7.1-py3-none-any.whl size=2196 sha256=0d9d8fc31043d4d6cee6edcdf1a29721bbfd6592dd7cceed00b0aacbdb666a44\n",
            "  Stored in directory: /root/.cache/pip/wheels/c6/9a/9d/44903aa5aac6c6bc5f0c331ed86214bbedce17e8556d002f1a\n",
            "Successfully built Latex data shutilwhich tempdir\n",
            "Installing collected packages: tempdir, shutilwhich, funcsigs, data, Latex\n",
            "Successfully installed Latex-0.7.0 data-0.4 funcsigs-1.0.2 shutilwhich-1.1.0 tempdir-0.7.1\n",
            "Collecting latextools==0.5.0\n",
            "  Downloading latextools-0.5.0-py3-none-any.whl (27 kB)\n",
            "Collecting fs (from latextools==0.5.0)\n",
            "  Downloading fs-2.4.16-py2.py3-none-any.whl (135 kB)\n",
            "\u001b[2K     \u001b[90m━━━━━━━━━━━━━━━━━━━━━━━━━━━━━━━━━━━━━━━━\u001b[0m \u001b[32m135.3/135.3 kB\u001b[0m \u001b[31m4.7 MB/s\u001b[0m eta \u001b[36m0:00:00\u001b[0m\n",
            "\u001b[?25hRequirement already satisfied: appdirs~=1.4.3 in /usr/local/lib/python3.10/dist-packages (from fs->latextools==0.5.0) (1.4.4)\n",
            "Requirement already satisfied: setuptools in /usr/local/lib/python3.10/dist-packages (from fs->latextools==0.5.0) (67.7.2)\n",
            "Requirement already satisfied: six~=1.10 in /usr/local/lib/python3.10/dist-packages (from fs->latextools==0.5.0) (1.16.0)\n",
            "Installing collected packages: fs, latextools\n",
            "Successfully installed fs-2.4.16 latextools-0.5.0\n"
          ]
        }
      ],
      "source": [
        "#Python library installed #34 seconds\n",
        "!pip install qutip==4.7.3     # for quantum operations => 4.7.3\n",
        "!pip install qutip-qip==0.3.0 # extension of quantum operations => 0.3.0\n",
        "\n",
        "!pip install ghostscript==0.7 # for showing transpiler => 0.7\n",
        "!pip install folium==0.2.1 #error; folium-0.14.0 = org\n",
        "!pip install pdflatex==0.1.3 #=> 0.1.3\n",
        "\n",
        "#for mp4 animation\n",
        "!apt install ffmpeg    # for qubit animation => 7:4.4.2-0ubuntu0.22.04.1\n",
        "!apt install imagemagick # for image animation => -6.q16\n",
        "!apt install pdf2svg #convert pdf2svg for circuit list =>\n",
        "!sudo apt-get install texlive-latex-recommended #textlive latex => none\n",
        "!sudo mv /etc/ImageMagick-6/policy.xml /etc/ImageMagick-6/policy.xml.off #needed for qip setup to work\n",
        "!sudo apt install texlive-latex-extra #data analysis => none\n",
        "!sudo apt install dvipng #convert qutip image to png without latex =>1.15-1.1\n",
        "\n",
        "#for imageio method then change from gif to .mp4\n",
        "\n",
        "!pip install Latex==0.7.0 #install latex for listing plots => 0.7.0\n",
        "!pip install latextools==0.5.0 #install latextools => 0.5.0\n",
        "#runtime: 2m 30s"
      ]
    },
    {
      "cell_type": "code",
      "source": [
        "#imported libraries\n",
        "#computational commands for imported plots\n",
        "import numpy as np\n",
        "import scipy\n",
        "import qutip\n",
        "\n",
        "#showing installed components\n",
        "import inspect #useful for printing python modules uploaded\n",
        "import sys #for printing imported python modules and versions\n",
        "#runtime = 2m 31s\n",
        "\n",
        "# perform animation of gate rotation\n",
        "import matplotlib.colors\n",
        "import matplotlib.pyplot as plt\n",
        "import matplotlib.gridspec as gridspec\n",
        "import matplotlib.animation as animation"
      ],
      "metadata": {
        "id": "sq0d-9uBf0Qv",
        "colab": {
          "base_uri": "https://localhost:8080/"
        },
        "outputId": "d76929c2-41c5-4b10-a263-24caa10f6dd5"
      },
      "execution_count": null,
      "outputs": [
        {
          "output_type": "stream",
          "name": "stderr",
          "text": [
            "/usr/local/lib/python3.10/dist-packages/qutip/__init__.py:65: UserWarning: The new version of Cython, (>= 3.0.0) is not supported.\n",
            "  warnings.warn(\n"
          ]
        }
      ]
    },
    {
      "cell_type": "code",
      "source": [
        "#imported classes from libraries\n",
        "from functools import partial #useful\n",
        "\n",
        "#Activate 3D projection\n",
        "from mpl_toolkits.mplot3d import Axes3D #activate 3D projection on Bloch Sphere\n",
        "\n",
        "# basis of setting states in Qutip, refer to https://qutip.org/docs/latest/guide/guide-basics.html\n",
        "# single-qubit gate operation, refer to https://qutip.org/docs/latest/guide/qip/qip-basics.html\n",
        "from qutip import basis, Qobj, sigmax, sigmay, sigmaz, tensor, expect\n",
        "\n",
        "from IPython.display import Image # https://github.com/qutip/qutip-qip/issues/64\n",
        "\n",
        "#from qutip.qip.circuit import QubitCircuit, Gate\n",
        "from qutip_qip.circuit import QubitCircuit\n",
        "#add rotation operators for phi and theta - useful for making trajectories\n",
        "#https://qutip-qip.readthedocs.io/en/stable/apidoc/qutip_qip.operations.html#qutip_qip.operations.rotation\n",
        "from qutip_qip.operations import RX, RY, RZ, Gate #for 1Q gate rotations\n",
        "from qutip.qip import hadamard_transform #Hadamard evolution"
      ],
      "metadata": {
        "id": "rA2HnlkNgJu-"
      },
      "execution_count": null,
      "outputs": []
    },
    {
      "cell_type": "markdown",
      "source": [
        "## Important Library"
      ],
      "metadata": {
        "id": "2V-O9Ba8gZZX"
      }
    },
    {
      "cell_type": "markdown",
      "source": [
        "Extract Qubit State"
      ],
      "metadata": {
        "id": "UGp9zvfugxRk"
      }
    },
    {
      "cell_type": "code",
      "source": [
        "# no change from 20230928\n",
        "def extract_state_info_qt(init_state):\n",
        "  \"\"\"\n",
        "  20230926 Data analysis\n",
        "  Extract appropriate qutip parameters using qt.expect\n",
        "  # no good analysis if theta and phi have flawed database\n",
        "  Get coordinates from state. To simplify, we get the theta and phi after\n",
        "  state readout.\n",
        "  Input\n",
        "    init_state: Qobj\n",
        "      state preparation\n",
        "    norm: string\n",
        "      norm='Y' => normalized to unit vector\n",
        "      norm='N' => get raw state\n",
        "  Output:\n",
        "    dict_info: dictionary\n",
        "      dict_info[0]: list of floats in coordinates\n",
        "        [u, v, w]\n",
        "      dict_info[1]: list of floats in radians\n",
        "        [theta, phi]\n",
        "      dict_info[2]: list of floats in fractions\n",
        "        [alpha**2, beta**2]\n",
        "  \"\"\"\n",
        "  #assess whether normalization is important\n",
        "  alpha, beta = init_state.full().flatten()\n",
        "  if (np.abs((alpha*np.conj(alpha))) + np.abs((beta*np.conj(beta)))) > 1:\n",
        "    init_state = init_state.unit()\n",
        "  else:\n",
        "    init_state = init_state\n",
        "\n",
        "  u, v, w = expect([sigmax(), sigmay(), sigmaz()], init_state) #assuming pure-state\n",
        "\n",
        "  #obtain state angle phi and theta, solved\n",
        "  theta = np.arccos(w) #rotation between |0> (theta/2=0) to |1> (theta/2=180)\n",
        "  phi = np.angle(u + 1j*v) #rotation from +x to +y to -x to -y to +x\n",
        "  if phi < 0:\n",
        "    #phi correction\n",
        "    phi += 2*np.pi\n",
        "\n",
        "  #define coefficient of the state vectors according to psi\n",
        "  alpha = np.cos(theta/2)\n",
        "  beta = np.sin(theta/2)*np.exp(1j*phi)\n",
        "\n",
        "  #data analysis of probabilities\n",
        "  alpha_sqr = np.abs(alpha*np.conj(alpha))\n",
        "  beta_sqr = np.abs(beta*np.conj(beta))\n",
        "\n",
        "  dict_info = {'prob': np.asarray([alpha_sqr, beta_sqr]),\n",
        "               'coord': np.asarray([u, v, w]),\n",
        "               'theta_phi': np.asarray([theta, phi]),\n",
        "               'alpha_beta': np.asarray([alpha, beta])}\n",
        "  return dict_info"
      ],
      "metadata": {
        "id": "HRxEFNXLeGnY"
      },
      "execution_count": null,
      "outputs": []
    },
    {
      "cell_type": "markdown",
      "source": [
        "Rotation Gate Animation"
      ],
      "metadata": {
        "id": "P8VQfcTahXyd"
      }
    },
    {
      "cell_type": "code",
      "source": [
        "#finalized rot r-angle in degrees\n",
        "def rot_R(init_list, angle, pts=3):\n",
        "  \"\"\"\n",
        "  Basic rotation gates.\n",
        "\n",
        "  input:\n",
        "    init_list: list of objects\n",
        "      init_list[0] = initial state in Qobj\n",
        "      init_list[1] = target qubit [default=0] in integer\n",
        "      init_list[2] = string N -> ['X', 'Y', 'Z', 'H'] rotation on the n-axis\n",
        "    angle: float\n",
        "      refers to rotation around a certain axis by degrees [for clarity]. Note\n",
        "      that the value here is not the same as the theta and phi angles in the\n",
        "      bloch statevector\n",
        "    pts: float\n",
        "      Number of Rotations in the Z-axis, min number of points is 3 just to\n",
        "      make an arc between two lines for drawing expected trajectories\n",
        "\n",
        "  output:\n",
        "    list of unitary matrix, the angle is independent of the qubit state\n",
        "  \"\"\"\n",
        "  # unpack variables\n",
        "  init_state = init_list[0] #initial state of evolution\n",
        "  target = init_list[1] #qubit target, initial is 0 for single qubit\n",
        "  str_rot = init_list[2] #rotation around N-axis\n",
        "\n",
        "  #check state angle coordinates for Hadamard Gate Transform.\n",
        "  dict_state = extract_state_info_qt(init_state=init_state)\n",
        "  theta = dict_state['theta_phi'][0]\n",
        "  phi = dict_state['theta_phi'][1]\n",
        "  #print('theta = {:.3f} deg; phi = {:.3f} deg'.format(np.degrees(theta), np.degrees(phi)))\n",
        "  #RX, RY, and RZ are multidimentional. However, we confine to single-qubit only\n",
        "  # Set rotations around needed axes and create a list of rotation matrices using qip-operations contrl\n",
        "  rot_arr = np.linspace(0, angle, pts) # 0 is initial state, angle for variable angles in degrees\n",
        "  if str_rot == 'X':\n",
        "    rot_arr = np.linspace(0, 180, pts)\n",
        "    obj_arr = [RX(target, np.radians(rot_arr[i])).get_compact_qobj() for i in range(pts)]\n",
        "  elif str_rot == 'Y':\n",
        "    rot_arr = np.linspace(0, 180, pts)\n",
        "    obj_arr = [RY(target, np.radians(rot_arr[i])).get_compact_qobj() for i in range(pts)]\n",
        "  elif str_rot == 'Z':\n",
        "    rot_arr = np.linspace(0, 180, pts)\n",
        "    obj_arr = [RZ(target, np.radians(rot_arr[i])).get_compact_qobj() for i in range(pts)]\n",
        "  elif str_rot == 'H':\n",
        "    #https://physics.stackexchange.com/questions/313959/visual-interpretation-on-the-bloch-sphere-when-hadamard-gate-is-applied-twice\n",
        "    #the gate - based on hamiltonian transformation\n",
        "    hadamard = hadamard_transform()\n",
        "    # the hamilton operator describing the evolution during the hadamard gate\n",
        "    hamilton = Qobj(scipy.linalg.logm(hadamard.data.todense()), dims=hadamard.dims) / np.pi * 1.j\n",
        "    # describing the gate as time evolution\n",
        "    def gate(t):\n",
        "      return (-2*np.pi*1.j*hamilton*t).expm()\n",
        "    obj_arr = [gate(t) for t in np.linspace(0, 0.5, pts)]\n",
        "  elif str_rot == 'I':\n",
        "    #useful for two-qubit representation of CNOT telling idle qubit times\n",
        "    obj_arr = [Qobj([[1, 0], [0, 1]]) for i in range(pts)]\n",
        "  elif str_rot == 'S':\n",
        "    #S or Z90 gate.\n",
        "    rot_arr = np.linspace(0, 90, pts)\n",
        "    obj_arr = [RZ(target, np.radians(rot_arr[i])).get_compact_qobj() for i in range(pts)]\n",
        "  elif str_rot == 'T':\n",
        "    #T or Z45 gate\n",
        "    rot_arr = np.linspace(0, 45, pts)\n",
        "    obj_arr = [RZ(target, np.radians(rot_arr[i])).get_compact_qobj() for i in range(pts)]\n",
        "  elif str_rot == 'RX':\n",
        "    obj_arr = [RX(target, np.radians(rot_arr[i])).get_compact_qobj() for i in range(pts)]\n",
        "  elif str_rot == 'RY':\n",
        "    obj_arr = [RY(target, np.radians(rot_arr[i])).get_compact_qobj() for i in range(pts)]\n",
        "  elif str_rot == 'RZ':\n",
        "    obj_arr = [RZ(target, np.radians(rot_arr[i])).get_compact_qobj() for i in range(pts)]\n",
        "  #output evolving states\n",
        "  state_arr = [obj_arr[i]*init_state for i in range(pts)] #a list of qobj\n",
        "  return obj_arr, state_arr"
      ],
      "metadata": {
        "id": "ni7tqBz2ghcV"
      },
      "execution_count": null,
      "outputs": []
    },
    {
      "cell_type": "markdown",
      "source": [
        "Draw gate arcs to visualize qubit trajectory for every qubit gates"
      ],
      "metadata": {
        "id": "PakOr47Qg3fF"
      }
    },
    {
      "cell_type": "code",
      "source": [
        "#additional programs for determining arcs and states for drawing\n",
        "def gate_arcs_all(list_states):\n",
        "  #provides list of states for arc formation\n",
        "  \"\"\"\n",
        "  extract list of coordinates from given states with regard to expected trajectories per gate\n",
        "  #flaw - useful for simple gates but not useful for complicated states\n",
        "\n",
        "  Input:\n",
        "    list_state: list of states per gate\n",
        "  Output:\n",
        "    list of list of vectors in [[u1,v1,w1], [u2,v2,w2], [u3,v3,w3]]\n",
        "  \"\"\"\n",
        "  n = len(list_states)\n",
        "\n",
        "  #get x,y,z list of all states\n",
        "  arc_coords = [extract_state_info_qt(list_states[i])['coord'] for i in range(n)]\n",
        "  return arc_coords\n",
        "\n",
        "#convert cm to inches.\n",
        "def cm_to_inch(x):\n",
        "  return x/2.54"
      ],
      "metadata": {
        "id": "h9YhXcLugvUb"
      },
      "execution_count": null,
      "outputs": []
    },
    {
      "cell_type": "markdown",
      "source": [
        "Testing 1Q animation evolution using configuration files"
      ],
      "metadata": {
        "id": "GbaAshB5hAIa"
      }
    },
    {
      "cell_type": "markdown",
      "source": [
        "#Disclaimer:\n",
        "\n",
        "1.) The bloch sphere animation for two-qubit gates are based on basic gates for 1Q. Hence, the oscillations here are evaluating 2 x 2 unitary list.\n",
        "\n",
        "2.) When plotting the |1> state probabilities, note an additional pause between gates, which deviates the sinusoidal behavior expected of bloch sphere operation. This can be offset by increasing the number of animated points.\n",
        "\n",
        "3.) Typical animations produced here can be downloaded with less than 1 mb data for multiple gates, making this useful for calculations."
      ],
      "metadata": {
        "id": "qS_2pIeaEMua"
      }
    },
    {
      "cell_type": "markdown",
      "source": [
        "##3) CNOT Gate\n",
        "\n",
        "CNOT gate is simply CZ but with hadamards. In a two qubit truth table. |00> => |00>. |01> => |01>. |10> => |11> and |11> => |10>"
      ],
      "metadata": {
        "id": "BeMoZhl9eXDq"
      }
    },
    {
      "cell_type": "code",
      "source": [
        "#test init states\n",
        "dict_psi = {'test_0': basis(2,0),\n",
        "            'test_1': basis(2,1),\n",
        "            'test_+': (1/np.sqrt(2))*(basis(2,0) + basis(2,1)),\n",
        "            'test_-': (1/np.sqrt(2))*(basis(2,0) - basis(2,1)),\n",
        "            'test_+j': (1/np.sqrt(2))*(basis(2,0) + 1j*basis(2,1)),\n",
        "            'test_-j': (1/np.sqrt(2))*(basis(2,0) - 1j*basis(2,1))}"
      ],
      "metadata": {
        "id": "YNeyo35BnsB8"
      },
      "execution_count": null,
      "outputs": []
    },
    {
      "cell_type": "markdown",
      "source": [
        "Animate CZ operation with Target Q2 in |0> and |1> state."
      ],
      "metadata": {
        "id": "KzFCGK2coBzq"
      }
    },
    {
      "cell_type": "code",
      "source": [
        "# configuration file includes gate sequences\n",
        "test_q1_0 = 'test_0' #Q1 control\n",
        "test_q1_1 = 'test_0' #Q1 control\n",
        "test_q2_0 = 'test_0' #Q2 target\n",
        "test_q2_1 = 'test_0' #Q2 target\n",
        "pts = 11\n",
        "\n",
        "psi_testq1_0 = dict_psi[test_q1_0] #target\n",
        "psi_testq1_1 = dict_psi[test_q1_1] #target\n",
        "psi_testq2_0 = dict_psi[test_q2_0] #control\n",
        "psi_testq2_1 = dict_psi[test_q2_1] #control\n",
        "\n",
        "#gate series for CNOT test Q1\n",
        "purpose = 'CNOT'\n",
        "purpose_1 = purpose + '_q1c' #c means control\n",
        "gate_list_q1_0 = ['I', 'I', 'I', 'I'] # suggested by CCD control\n",
        "gate_angle_q1_0 = np.asarray([0 for i in range(len(gate_list_q1_0))])\n",
        "gate_list_q1_1 = ['X', 'I', 'I', 'I'] # after 20231019: - ccd suggestion\n",
        "gate_angle_q1_1 = gate_angle_q1_0\n",
        "\n",
        "purpose_2 = purpose + '_q2t' #t means target\n",
        "gate_list_q2_0 = ['I', 'H', 'Z', 'H'] # 3 gates, no rotation\n",
        "gate_angle_q2_0 = np.asarray([0, 90, 180, 90])\n",
        "gate_list_q2_1 = ['X', 'H', 'Z', 'H'] # 3 gates, pi phase shift rotation = qutech\n",
        "gate_angle_q2_1 = np.asarray([0, 90, 180, 90])\n",
        "\n",
        "#Make I gate\n",
        "def user_gate_I():\n",
        "     # Identity Gate\n",
        "     mat = np.array([[1.,   0],\n",
        "                     [0., 1.]])\n",
        "     return Qobj(mat, dims=[[2], [2]])\n",
        "\n",
        "#Control Qubit Scenario\n",
        "\n",
        "#Plot circuits and get list of states of qubit 1_{x} Q1\n",
        "qc_q1_0 = QubitCircuit(N=1)\n",
        "qc_q1_0.user_gates = {\"I\": user_gate_I} #add I-gate\n",
        "\n",
        "# add control line that applies the gates\n",
        "qc_q1_0.add_state(state='0', targets=[0], state_type='input') #qubit operated upon Q0\n",
        "\n",
        "# Automate gate list. Is it necessary to put classical controls?\n",
        "n = len(gate_list_q1_0) #assuming len(gate_list_0) = len(gate_list_1)\n",
        "\n",
        "[qc_q1_0.add_gate(gate_list_q1_0[i], targets=0) if gate_list_q1_0[i][0] != 'R'\n",
        "else qc_q1_0.add_gate(gate_list_q1_0[i], targets=0,\n",
        "                 arg_value=np.radians(gate_angle_q1_0[i]),\n",
        "                 arg_label=r'{:1d}^o'.format(gate_angle_q1_0[i])) for i in range(n)]\n",
        "\n",
        "# plot circuits of Q0 (Named Q1)\n",
        "qc_q1_0.draw(file_type='png', file_name='circuit_Q1_0_' + purpose_1)\n",
        "\n",
        "#Plot circuits and get list of states of qubit 0=|1>\n",
        "qc_q1_1 = QubitCircuit(N=1)\n",
        "qc_q1_1.user_gates = {\"I\": user_gate_I} #add I-gate\n",
        "\n",
        "# add control line that applies the gates\n",
        "qc_q1_1.add_state(state='0', targets=[0], state_type='input') #qubit operated upon Q0\n",
        "\n",
        "#make an argument to\n",
        "[qc_q1_1.add_gate(gate_list_q1_1[i], targets=0) if gate_list_q1_1[i][0] != 'R'\n",
        "else qc_q1_1.add_gate(gate_list_q1_1[i], targets=0,\n",
        "                 arg_value=np.radians(gate_angle_q1_1[i]),\n",
        "                 arg_label=r'{:1d}^o'.format(gate_angle_q1_1[i])) for i in range(n)]\n",
        "# plot circuits of Q1 (named Q1)\n",
        "qc_q1_1.draw(file_type='png', file_name='circuit_Q1_1_' + purpose_1)\n",
        "\n",
        "\n",
        "#Target Qubit\n",
        "#Plot circuits and get list of states of qubit 2 = |0>\n",
        "qc_q2_0 = QubitCircuit(N=1)\n",
        "qc_q2_0.user_gates = {\"I\": user_gate_I} #add I-gate\n",
        "\n",
        "# add control line that applies the gates\n",
        "qc_q2_0.add_state(state='0', targets=[0], state_type='input') #qubit operated upon Q0\n",
        "\n",
        "# Automate gate list. Is it necessary to put classical controls?\n",
        "\n",
        "#make an argument to\n",
        "[qc_q2_0.add_gate(gate_list_q2_0[i], targets=0) if gate_list_q2_0[i][0] != 'R'\n",
        "else qc_q2_0.add_gate(gate_list_q2_0[i], targets=0,\n",
        "                 arg_value=np.radians(gate_angle_q2_0[i]),\n",
        "                 arg_label=r'{:1d}^o'.format(gate_angle_q2_0[i])) for i in range(n)]\n",
        "# plot circuits of Q2\n",
        "qc_q2_0.draw(file_type='png', file_name='circuit_Q2_0' + purpose_2)\n",
        "\n",
        "#Plot circuits and get list of states of qubit 2 = |1>\n",
        "qc_q2_1 = QubitCircuit(N=1)\n",
        "qc_q2_1.user_gates = {\"I\": user_gate_I} #add I-gate\n",
        "\n",
        "# add control line that applies the gates\n",
        "qc_q2_1.add_state(state='0', targets=[0], state_type='input') #qubit operated upon Q0\n",
        "\n",
        "# Automate gate list. Is it necessary to put classical controls?\n",
        "\n",
        "#make an argument to\n",
        "[qc_q2_1.add_gate(gate_list_q2_1[i], targets=0) if gate_list_q2_1[i][0] != 'R'\n",
        "else qc_q2_1.add_gate(gate_list_q2_1[i], targets=0,\n",
        "                 arg_value=np.radians(gate_angle_q2_1[i]),\n",
        "                 arg_label=r'{:1d}^o'.format(gate_angle_q2_1[i])) for i in range(n)]\n",
        "# plot circuits of Q2\n",
        "qc_q2_1.draw(file_type='png', file_name='circuit_Q2_1' + purpose_2)\n",
        "\n",
        "#relabel gates for tracking in animation\n",
        "gate_names_q1_0 = [gate_list_q1_0[i] if (gate_list_q1_0[i][0] != 'R')\n",
        "                else (gate_list_q1_0[i] + '(' + str(gate_angle_q1_0[i])\n",
        "                + r'$^{o}$' + ')') for i in range(n)]\n",
        "\n",
        "gate_names_q1_1 = [gate_list_q1_1[i] if (gate_list_q1_1[i][0] != 'R')\n",
        "                else (gate_list_q1_1[i] + '(' + str(gate_angle_q1_1[i]) + r'$^{o}$' + ')')\n",
        "                for i in range(n)]\n",
        "\n",
        "gate_names_q2_0 = [gate_list_q2_0[i] if (gate_list_q2_0[i][0] != 'R')\n",
        "                else (gate_list_q2_0[i] + '(' + str(gate_angle_q2_0[i]) + r'$^{o}$' + ')')\n",
        "                for i in range(n)]\n",
        "\n",
        "gate_names_q2_1 = [gate_list_q2_1[i] if (gate_list_q2_1[i][0] != 'R')\n",
        "                else (gate_list_q2_1[i] + '(' + str(gate_angle_q2_1[i]) + r'$^{o}$' + ')')\n",
        "                for i in range(n)]\n",
        "\n",
        "#use propagators - propagators work only for 1Q\n",
        "props_q1_0 = qc_q1_0.propagators()\n",
        "#print(props_q1_0)\n",
        "\n",
        "#For potential 1y as suggested by CCD.\n",
        "props_q1_1 = qc_q1_1.propagators()\n",
        "#print(props_q1_1)\n",
        "\n",
        "props_q2_0 = qc_q2_0.propagators()\n",
        "#print(props_q2_0)\n",
        "\n",
        "props_q2_1 = qc_q2_1.propagators()\n",
        "#print(props__q2_1)\n",
        "\n",
        "\n",
        "# Advantages: no need for making a unitary matrix\n",
        "#set final and initial state of access\n",
        "gate_fin_arr_q1_0 = [psi_testq1_0 for i in range(n)]\n",
        "gate_fin_arr_q1_1 = [psi_testq1_1 for i in range(n)]\n",
        "gate_fin_arr_q2_0 = [psi_testq2_0 for i in range(n)]\n",
        "gate_fin_arr_q2_1 = [psi_testq2_1 for i in range(n)]\n",
        "\n",
        "for i in range(n):\n",
        "   if i == 0:\n",
        "     gate_fin_arr_q1_0[i] = Qobj(props_q1_0[i]*gate_fin_arr_q1_0[i])\n",
        "     gate_fin_arr_q1_1[i] = Qobj(props_q1_1[i]*gate_fin_arr_q1_1[i])\n",
        "     gate_fin_arr_q2_0[i] = Qobj(props_q2_0[i]*gate_fin_arr_q2_0[i])\n",
        "     gate_fin_arr_q2_1[i] = Qobj(props_q2_1[i]*gate_fin_arr_q2_1[i])\n",
        "   else:\n",
        "     gate_fin_arr_q1_0[i] = Qobj(props_q1_0[i]*gate_fin_arr_q1_0[i-1])\n",
        "     gate_fin_arr_q1_1[i] = Qobj(props_q1_1[i]*gate_fin_arr_q1_1[i-1])\n",
        "     gate_fin_arr_q2_0[i] = Qobj(props_q2_0[i]*gate_fin_arr_q2_0[i-1])\n",
        "     gate_fin_arr_q2_1[i] = Qobj(props_q2_1[i]*gate_fin_arr_q2_1[i-1])\n",
        "\n",
        "  #this can be made in list-comprehension for speed.\n",
        "  #advantage\n",
        "\n",
        "gate_start_arr_q1_0 = [psi_testq1_0] + gate_fin_arr_q1_0[:int(n-1)]\n",
        "gate_start_arr_q1_1 = [psi_testq1_1] + gate_fin_arr_q1_1[:int(n-1)]\n",
        "gate_start_arr_q2_0 = [psi_testq2_0] + gate_fin_arr_q2_0[:int(n-1)]\n",
        "gate_start_arr_q2_1 = [psi_testq2_1] + gate_fin_arr_q2_1[:int(n-1)]\n",
        "\n",
        "# for debug purposes\n",
        "debug = 'N'\n",
        "if debug == 'Y':\n",
        "  #Get Initial State\n",
        "  print('State after Operation Q1_0:')\n",
        "  print( gate_fin_arr_q1_0)\n",
        "  print('\\n')\n",
        "  print('State after Operation Q1_1:')\n",
        "  print(gate_fin_arr_q1_1)\n",
        "  print('\\n')\n",
        "  print('State after Operation Q2_0:')\n",
        "  print(gate_fin_arr_q2_0)\n",
        "  print('\\n')\n",
        "  print('State after Operation Q2_1:')\n",
        "  print(gate_fin_arr_q2_1)\n",
        "  print('\\n')\n",
        "\n",
        "  #get initial state before gate operation for iterative generation of animation\n",
        "  print('State before Operation Q1_0:')\n",
        "  print(gate_start_arr_q1_0)\n",
        "  print('State before Operation Q1_1:')\n",
        "  print(gate_start_arr_q1_1)\n",
        "  print('State before Operation Q2_0:')\n",
        "  print(gate_start_arr_q2_0)\n",
        "  print('State before Operation Q2_1:')\n",
        "  print(gate_start_arr_q2_1)"
      ],
      "metadata": {
        "colab": {
          "base_uri": "https://localhost:8080/"
        },
        "outputId": "94ab9cfd-0dac-4842-c12f-af9259cf3b35",
        "id": "vNEkLRkFoA0n"
      },
      "execution_count": null,
      "outputs": [
        {
          "output_type": "stream",
          "name": "stderr",
          "text": [
            "/usr/local/lib/python3.10/dist-packages/qutip_qip/circuit/circuit_latex.py:95: UserWarning: Could not locate system 'pdfcrop': image output may have additional margins.\n",
            "  warnings.warn(\n",
            "/usr/local/lib/python3.10/dist-packages/qutip_qip/circuit/circuit_latex.py:95: UserWarning: Could not locate system 'pdfcrop': image output may have additional margins.\n",
            "  warnings.warn(\n",
            "/usr/local/lib/python3.10/dist-packages/qutip_qip/circuit/circuit_latex.py:95: UserWarning: Could not locate system 'pdfcrop': image output may have additional margins.\n",
            "  warnings.warn(\n",
            "/usr/local/lib/python3.10/dist-packages/qutip_qip/circuit/circuit_latex.py:95: UserWarning: Could not locate system 'pdfcrop': image output may have additional margins.\n",
            "  warnings.warn(\n"
          ]
        }
      ]
    },
    {
      "cell_type": "code",
      "source": [
        "#make sequential animation to highlight trajectories\n",
        "#Q1_0\n",
        "state_anim_list_q1_0 = [rot_R(init_list=[gate_start_arr_q1_0[i], 0, gate_list_q1_0[i]],\n",
        "                         angle=gate_angle_q1_0[i], pts=pts)[1] for i in range(n)]\n",
        "#Q1_1\n",
        "state_anim_list_q1_1 = [rot_R(init_list=[gate_start_arr_q1_1[i], 0, gate_list_q1_1[i]],\n",
        "                            angle=gate_angle_q1_1[i], pts=pts)[1] for i in range(n)]\n",
        "#Q2_0\n",
        "state_anim_list_q2_0 = [rot_R(init_list=[gate_start_arr_q2_0[i], 0, gate_list_q2_0[i]],\n",
        "                         angle=gate_angle_q2_0[i], pts=pts)[1] for i in range(n)]\n",
        "\n",
        "#Q2_1\n",
        "state_anim_list_q2_1 = [rot_R(init_list=[gate_start_arr_q2_1[i], 0, gate_list_q2_1[i]],\n",
        "                         angle=gate_angle_q2_1[i], pts=pts)[1] for i in range(n)]\n",
        "\n",
        "print('\\n')\n",
        "print('Number of Q1_0 gates: {:1d}'.format(len(state_anim_list_q1_0)))\n",
        "print('Number of animation per Q0 gate : {:1d}'.format(len(state_anim_list_q1_0[0])))\n",
        "print('\\n')\n",
        "print('Number of Q1_1 gates: {:1d}'.format(len(state_anim_list_q1_1)))\n",
        "print('Number of animation per Q1_1 gate : {:1d}'.format(len(state_anim_list_q1_1[0])))\n",
        "print('\\n')\n",
        "print('Number of Q2_0 gates: {:1d}'.format(len(state_anim_list_q2_0)))\n",
        "print('Number of animation per Q2 gate : {:1d}'.format(len(state_anim_list_q2_0[0])))\n",
        "print('\\n')\n",
        "print('Number of Q2_1 gates: {:1d}'.format(len(state_anim_list_q2_1)))\n",
        "print('Number of animation per Q2 gate : {:1d}'.format(len(state_anim_list_q2_1[0])))\n",
        "\n",
        "def flatten_comprehension(matrix):\n",
        "  #Try flatten gates for drawing arcs per gate\n",
        "  #https://realpython.com/python-flatten-list/\n",
        "  return [item for row in matrix for item in row]\n",
        "\n",
        "state_arr_q1_0 = flatten_comprehension(state_anim_list_q1_0)\n",
        "state_arr_q1_1 = flatten_comprehension(state_anim_list_q1_1)\n",
        "state_arr_q2_0 = flatten_comprehension(state_anim_list_q2_0)\n",
        "state_arr_q2_1 = flatten_comprehension(state_anim_list_q2_1)\n",
        "print('\\n')\n",
        "print('Number of animation per Q1_0 list: {:1d}'.format(len(state_arr_q1_0)))\n",
        "print('Number of animation per Q1_1 list: {:1d}'.format(len(state_arr_q1_1)))\n",
        "print('Number of animation per Q2_0 list: {:1d}'.format(len(state_arr_q2_0)))\n",
        "print('Number of animation per Q2_1 list: {:1d}'.format(len(state_arr_q2_1)))"
      ],
      "metadata": {
        "colab": {
          "base_uri": "https://localhost:8080/"
        },
        "outputId": "4d8ca23c-2bb1-49cf-9945-f4ab50797773",
        "id": "igDjb8NNH22_"
      },
      "execution_count": null,
      "outputs": [
        {
          "output_type": "stream",
          "name": "stdout",
          "text": [
            "\n",
            "\n",
            "Number of Q1_0 gates: 4\n",
            "Number of animation per Q0 gate : 11\n",
            "\n",
            "\n",
            "Number of Q1_1 gates: 4\n",
            "Number of animation per Q1_1 gate : 11\n",
            "\n",
            "\n",
            "Number of Q2_0 gates: 4\n",
            "Number of animation per Q2 gate : 11\n",
            "\n",
            "\n",
            "Number of Q2_1 gates: 4\n",
            "Number of animation per Q2 gate : 11\n",
            "\n",
            "\n",
            "Number of animation per Q1_0 list: 44\n",
            "Number of animation per Q1_1 list: 44\n",
            "Number of animation per Q2_0 list: 44\n",
            "Number of animation per Q2_1 list: 44\n"
          ]
        },
        {
          "output_type": "stream",
          "name": "stderr",
          "text": [
            "<ipython-input-6-3937fde6f9f3>:47: DeprecationWarning: Importing functions/classes of the qip submodule directly from the namespace qutip is deprecated. Please import them from the submodule instead, e.g.\n",
            "from qutip.qip.operations import cnot\n",
            "from qutip.qip.circuit import QubitCircuit\n",
            "\n",
            "  hadamard = hadamard_transform()\n"
          ]
        }
      ]
    },
    {
      "cell_type": "markdown",
      "source": [
        "### Case where control Q1 = |1> and Q2 =|0>=> |1>\n",
        "(Reference: Two qubit gates qutech: https://www.youtube.com/watch?v=vwjlEdwi2LU)"
      ],
      "metadata": {
        "id": "mqiSb6fEYzbS"
      }
    },
    {
      "cell_type": "code",
      "execution_count": null,
      "metadata": {
        "colab": {
          "base_uri": "https://localhost:8080/",
          "height": 1000
        },
        "outputId": "783f4fe9-4978-4f73-bb86-534dc22d2067",
        "id": "uisOBgn3LYPJ"
      },
      "outputs": [
        {
          "output_type": "stream",
          "name": "stdout",
          "text": [
            "0\n"
          ]
        },
        {
          "output_type": "display_data",
          "data": {
            "text/plain": [
              "<Figure size 500x500 with 0 Axes>"
            ]
          },
          "metadata": {}
        },
        {
          "output_type": "display_data",
          "data": {
            "text/plain": [
              "<Figure size 500x500 with 0 Axes>"
            ]
          },
          "metadata": {}
        },
        {
          "output_type": "stream",
          "name": "stdout",
          "text": [
            "0\n"
          ]
        },
        {
          "output_type": "display_data",
          "data": {
            "text/plain": [
              "<Figure size 500x500 with 0 Axes>"
            ]
          },
          "metadata": {}
        },
        {
          "output_type": "display_data",
          "data": {
            "text/plain": [
              "<Figure size 500x500 with 0 Axes>"
            ]
          },
          "metadata": {}
        },
        {
          "output_type": "stream",
          "name": "stdout",
          "text": [
            "0\n"
          ]
        },
        {
          "output_type": "display_data",
          "data": {
            "text/plain": [
              "<Figure size 500x500 with 0 Axes>"
            ]
          },
          "metadata": {}
        },
        {
          "output_type": "display_data",
          "data": {
            "text/plain": [
              "<Figure size 500x500 with 0 Axes>"
            ]
          },
          "metadata": {}
        },
        {
          "output_type": "stream",
          "name": "stdout",
          "text": [
            "0\n"
          ]
        },
        {
          "output_type": "display_data",
          "data": {
            "text/plain": [
              "<Figure size 500x500 with 0 Axes>"
            ]
          },
          "metadata": {}
        },
        {
          "output_type": "display_data",
          "data": {
            "text/plain": [
              "<Figure size 500x500 with 0 Axes>"
            ]
          },
          "metadata": {}
        },
        {
          "output_type": "stream",
          "name": "stdout",
          "text": [
            "0\n"
          ]
        },
        {
          "output_type": "display_data",
          "data": {
            "text/plain": [
              "<Figure size 500x500 with 0 Axes>"
            ]
          },
          "metadata": {}
        },
        {
          "output_type": "display_data",
          "data": {
            "text/plain": [
              "<Figure size 500x500 with 0 Axes>"
            ]
          },
          "metadata": {}
        },
        {
          "output_type": "stream",
          "name": "stdout",
          "text": [
            "0\n"
          ]
        },
        {
          "output_type": "display_data",
          "data": {
            "text/plain": [
              "<Figure size 500x500 with 0 Axes>"
            ]
          },
          "metadata": {}
        },
        {
          "output_type": "display_data",
          "data": {
            "text/plain": [
              "<Figure size 500x500 with 0 Axes>"
            ]
          },
          "metadata": {}
        },
        {
          "output_type": "stream",
          "name": "stdout",
          "text": [
            "0\n"
          ]
        },
        {
          "output_type": "display_data",
          "data": {
            "text/plain": [
              "<Figure size 500x500 with 0 Axes>"
            ]
          },
          "metadata": {}
        },
        {
          "output_type": "display_data",
          "data": {
            "text/plain": [
              "<Figure size 500x500 with 0 Axes>"
            ]
          },
          "metadata": {}
        },
        {
          "output_type": "stream",
          "name": "stdout",
          "text": [
            "0\n"
          ]
        },
        {
          "output_type": "display_data",
          "data": {
            "text/plain": [
              "<Figure size 500x500 with 0 Axes>"
            ]
          },
          "metadata": {}
        },
        {
          "output_type": "display_data",
          "data": {
            "text/plain": [
              "<Figure size 500x500 with 0 Axes>"
            ]
          },
          "metadata": {}
        },
        {
          "output_type": "stream",
          "name": "stdout",
          "text": [
            "0\n"
          ]
        },
        {
          "output_type": "display_data",
          "data": {
            "text/plain": [
              "<Figure size 500x500 with 0 Axes>"
            ]
          },
          "metadata": {}
        },
        {
          "output_type": "display_data",
          "data": {
            "text/plain": [
              "<Figure size 500x500 with 0 Axes>"
            ]
          },
          "metadata": {}
        },
        {
          "output_type": "stream",
          "name": "stdout",
          "text": [
            "0\n"
          ]
        },
        {
          "output_type": "display_data",
          "data": {
            "text/plain": [
              "<Figure size 500x500 with 0 Axes>"
            ]
          },
          "metadata": {}
        },
        {
          "output_type": "display_data",
          "data": {
            "text/plain": [
              "<Figure size 500x500 with 0 Axes>"
            ]
          },
          "metadata": {}
        },
        {
          "output_type": "stream",
          "name": "stdout",
          "text": [
            "0\n"
          ]
        },
        {
          "output_type": "display_data",
          "data": {
            "text/plain": [
              "<Figure size 500x500 with 0 Axes>"
            ]
          },
          "metadata": {}
        },
        {
          "output_type": "display_data",
          "data": {
            "text/plain": [
              "<Figure size 500x500 with 0 Axes>"
            ]
          },
          "metadata": {}
        },
        {
          "output_type": "stream",
          "name": "stdout",
          "text": [
            "1\n"
          ]
        },
        {
          "output_type": "display_data",
          "data": {
            "text/plain": [
              "<Figure size 500x500 with 0 Axes>"
            ]
          },
          "metadata": {}
        },
        {
          "output_type": "display_data",
          "data": {
            "text/plain": [
              "<Figure size 500x500 with 0 Axes>"
            ]
          },
          "metadata": {}
        },
        {
          "output_type": "stream",
          "name": "stdout",
          "text": [
            "1\n"
          ]
        },
        {
          "output_type": "display_data",
          "data": {
            "text/plain": [
              "<Figure size 500x500 with 0 Axes>"
            ]
          },
          "metadata": {}
        },
        {
          "output_type": "display_data",
          "data": {
            "text/plain": [
              "<Figure size 500x500 with 0 Axes>"
            ]
          },
          "metadata": {}
        },
        {
          "output_type": "stream",
          "name": "stdout",
          "text": [
            "1\n"
          ]
        },
        {
          "output_type": "display_data",
          "data": {
            "text/plain": [
              "<Figure size 500x500 with 0 Axes>"
            ]
          },
          "metadata": {}
        },
        {
          "output_type": "display_data",
          "data": {
            "text/plain": [
              "<Figure size 500x500 with 0 Axes>"
            ]
          },
          "metadata": {}
        },
        {
          "output_type": "stream",
          "name": "stdout",
          "text": [
            "1\n"
          ]
        },
        {
          "output_type": "display_data",
          "data": {
            "text/plain": [
              "<Figure size 500x500 with 0 Axes>"
            ]
          },
          "metadata": {}
        },
        {
          "output_type": "display_data",
          "data": {
            "text/plain": [
              "<Figure size 500x500 with 0 Axes>"
            ]
          },
          "metadata": {}
        },
        {
          "output_type": "stream",
          "name": "stdout",
          "text": [
            "1\n"
          ]
        },
        {
          "output_type": "display_data",
          "data": {
            "text/plain": [
              "<Figure size 500x500 with 0 Axes>"
            ]
          },
          "metadata": {}
        },
        {
          "output_type": "display_data",
          "data": {
            "text/plain": [
              "<Figure size 500x500 with 0 Axes>"
            ]
          },
          "metadata": {}
        },
        {
          "output_type": "stream",
          "name": "stdout",
          "text": [
            "1\n"
          ]
        },
        {
          "output_type": "display_data",
          "data": {
            "text/plain": [
              "<Figure size 500x500 with 0 Axes>"
            ]
          },
          "metadata": {}
        },
        {
          "output_type": "display_data",
          "data": {
            "text/plain": [
              "<Figure size 500x500 with 0 Axes>"
            ]
          },
          "metadata": {}
        },
        {
          "output_type": "stream",
          "name": "stdout",
          "text": [
            "1\n"
          ]
        },
        {
          "output_type": "display_data",
          "data": {
            "text/plain": [
              "<Figure size 500x500 with 0 Axes>"
            ]
          },
          "metadata": {}
        },
        {
          "output_type": "display_data",
          "data": {
            "text/plain": [
              "<Figure size 500x500 with 0 Axes>"
            ]
          },
          "metadata": {}
        },
        {
          "output_type": "stream",
          "name": "stdout",
          "text": [
            "1\n"
          ]
        },
        {
          "output_type": "display_data",
          "data": {
            "text/plain": [
              "<Figure size 500x500 with 0 Axes>"
            ]
          },
          "metadata": {}
        },
        {
          "output_type": "display_data",
          "data": {
            "text/plain": [
              "<Figure size 500x500 with 0 Axes>"
            ]
          },
          "metadata": {}
        },
        {
          "output_type": "stream",
          "name": "stdout",
          "text": [
            "1\n"
          ]
        },
        {
          "output_type": "display_data",
          "data": {
            "text/plain": [
              "<Figure size 500x500 with 0 Axes>"
            ]
          },
          "metadata": {}
        },
        {
          "output_type": "display_data",
          "data": {
            "text/plain": [
              "<Figure size 500x500 with 0 Axes>"
            ]
          },
          "metadata": {}
        },
        {
          "output_type": "stream",
          "name": "stdout",
          "text": [
            "1\n"
          ]
        },
        {
          "output_type": "display_data",
          "data": {
            "text/plain": [
              "<Figure size 500x500 with 0 Axes>"
            ]
          },
          "metadata": {}
        },
        {
          "output_type": "display_data",
          "data": {
            "text/plain": [
              "<Figure size 500x500 with 0 Axes>"
            ]
          },
          "metadata": {}
        },
        {
          "output_type": "stream",
          "name": "stdout",
          "text": [
            "1\n"
          ]
        },
        {
          "output_type": "display_data",
          "data": {
            "text/plain": [
              "<Figure size 500x500 with 0 Axes>"
            ]
          },
          "metadata": {}
        },
        {
          "output_type": "display_data",
          "data": {
            "text/plain": [
              "<Figure size 500x500 with 0 Axes>"
            ]
          },
          "metadata": {}
        },
        {
          "output_type": "stream",
          "name": "stdout",
          "text": [
            "2\n"
          ]
        },
        {
          "output_type": "display_data",
          "data": {
            "text/plain": [
              "<Figure size 500x500 with 0 Axes>"
            ]
          },
          "metadata": {}
        },
        {
          "output_type": "display_data",
          "data": {
            "text/plain": [
              "<Figure size 500x500 with 0 Axes>"
            ]
          },
          "metadata": {}
        },
        {
          "output_type": "stream",
          "name": "stdout",
          "text": [
            "2\n"
          ]
        },
        {
          "output_type": "display_data",
          "data": {
            "text/plain": [
              "<Figure size 500x500 with 0 Axes>"
            ]
          },
          "metadata": {}
        },
        {
          "output_type": "display_data",
          "data": {
            "text/plain": [
              "<Figure size 500x500 with 0 Axes>"
            ]
          },
          "metadata": {}
        },
        {
          "output_type": "stream",
          "name": "stdout",
          "text": [
            "2\n"
          ]
        },
        {
          "output_type": "display_data",
          "data": {
            "text/plain": [
              "<Figure size 500x500 with 0 Axes>"
            ]
          },
          "metadata": {}
        },
        {
          "output_type": "display_data",
          "data": {
            "text/plain": [
              "<Figure size 500x500 with 0 Axes>"
            ]
          },
          "metadata": {}
        },
        {
          "output_type": "stream",
          "name": "stdout",
          "text": [
            "2\n"
          ]
        },
        {
          "output_type": "display_data",
          "data": {
            "text/plain": [
              "<Figure size 500x500 with 0 Axes>"
            ]
          },
          "metadata": {}
        },
        {
          "output_type": "display_data",
          "data": {
            "text/plain": [
              "<Figure size 500x500 with 0 Axes>"
            ]
          },
          "metadata": {}
        },
        {
          "output_type": "stream",
          "name": "stdout",
          "text": [
            "2\n"
          ]
        },
        {
          "output_type": "display_data",
          "data": {
            "text/plain": [
              "<Figure size 500x500 with 0 Axes>"
            ]
          },
          "metadata": {}
        },
        {
          "output_type": "display_data",
          "data": {
            "text/plain": [
              "<Figure size 500x500 with 0 Axes>"
            ]
          },
          "metadata": {}
        },
        {
          "output_type": "stream",
          "name": "stdout",
          "text": [
            "2\n"
          ]
        },
        {
          "output_type": "display_data",
          "data": {
            "text/plain": [
              "<Figure size 500x500 with 0 Axes>"
            ]
          },
          "metadata": {}
        },
        {
          "output_type": "display_data",
          "data": {
            "text/plain": [
              "<Figure size 500x500 with 0 Axes>"
            ]
          },
          "metadata": {}
        },
        {
          "output_type": "stream",
          "name": "stdout",
          "text": [
            "2\n"
          ]
        },
        {
          "output_type": "display_data",
          "data": {
            "text/plain": [
              "<Figure size 500x500 with 0 Axes>"
            ]
          },
          "metadata": {}
        },
        {
          "output_type": "display_data",
          "data": {
            "text/plain": [
              "<Figure size 500x500 with 0 Axes>"
            ]
          },
          "metadata": {}
        },
        {
          "output_type": "stream",
          "name": "stdout",
          "text": [
            "2\n"
          ]
        },
        {
          "output_type": "display_data",
          "data": {
            "text/plain": [
              "<Figure size 500x500 with 0 Axes>"
            ]
          },
          "metadata": {}
        },
        {
          "output_type": "display_data",
          "data": {
            "text/plain": [
              "<Figure size 500x500 with 0 Axes>"
            ]
          },
          "metadata": {}
        },
        {
          "output_type": "stream",
          "name": "stdout",
          "text": [
            "2\n"
          ]
        },
        {
          "output_type": "display_data",
          "data": {
            "text/plain": [
              "<Figure size 500x500 with 0 Axes>"
            ]
          },
          "metadata": {}
        },
        {
          "output_type": "display_data",
          "data": {
            "text/plain": [
              "<Figure size 500x500 with 0 Axes>"
            ]
          },
          "metadata": {}
        },
        {
          "output_type": "stream",
          "name": "stdout",
          "text": [
            "2\n"
          ]
        },
        {
          "output_type": "display_data",
          "data": {
            "text/plain": [
              "<Figure size 500x500 with 0 Axes>"
            ]
          },
          "metadata": {}
        },
        {
          "output_type": "display_data",
          "data": {
            "text/plain": [
              "<Figure size 500x500 with 0 Axes>"
            ]
          },
          "metadata": {}
        },
        {
          "output_type": "stream",
          "name": "stdout",
          "text": [
            "2\n"
          ]
        },
        {
          "output_type": "display_data",
          "data": {
            "text/plain": [
              "<Figure size 500x500 with 0 Axes>"
            ]
          },
          "metadata": {}
        },
        {
          "output_type": "display_data",
          "data": {
            "text/plain": [
              "<Figure size 500x500 with 0 Axes>"
            ]
          },
          "metadata": {}
        },
        {
          "output_type": "stream",
          "name": "stdout",
          "text": [
            "3\n"
          ]
        },
        {
          "output_type": "display_data",
          "data": {
            "text/plain": [
              "<Figure size 500x500 with 0 Axes>"
            ]
          },
          "metadata": {}
        },
        {
          "output_type": "display_data",
          "data": {
            "text/plain": [
              "<Figure size 500x500 with 0 Axes>"
            ]
          },
          "metadata": {}
        },
        {
          "output_type": "stream",
          "name": "stdout",
          "text": [
            "3\n"
          ]
        },
        {
          "output_type": "display_data",
          "data": {
            "text/plain": [
              "<Figure size 500x500 with 0 Axes>"
            ]
          },
          "metadata": {}
        },
        {
          "output_type": "display_data",
          "data": {
            "text/plain": [
              "<Figure size 500x500 with 0 Axes>"
            ]
          },
          "metadata": {}
        },
        {
          "output_type": "stream",
          "name": "stdout",
          "text": [
            "3\n"
          ]
        },
        {
          "output_type": "display_data",
          "data": {
            "text/plain": [
              "<Figure size 500x500 with 0 Axes>"
            ]
          },
          "metadata": {}
        },
        {
          "output_type": "display_data",
          "data": {
            "text/plain": [
              "<Figure size 500x500 with 0 Axes>"
            ]
          },
          "metadata": {}
        },
        {
          "output_type": "stream",
          "name": "stdout",
          "text": [
            "3\n"
          ]
        },
        {
          "output_type": "display_data",
          "data": {
            "text/plain": [
              "<Figure size 500x500 with 0 Axes>"
            ]
          },
          "metadata": {}
        },
        {
          "output_type": "display_data",
          "data": {
            "text/plain": [
              "<Figure size 500x500 with 0 Axes>"
            ]
          },
          "metadata": {}
        },
        {
          "output_type": "stream",
          "name": "stdout",
          "text": [
            "3\n"
          ]
        },
        {
          "output_type": "display_data",
          "data": {
            "text/plain": [
              "<Figure size 500x500 with 0 Axes>"
            ]
          },
          "metadata": {}
        },
        {
          "output_type": "display_data",
          "data": {
            "text/plain": [
              "<Figure size 500x500 with 0 Axes>"
            ]
          },
          "metadata": {}
        },
        {
          "output_type": "stream",
          "name": "stdout",
          "text": [
            "3\n"
          ]
        },
        {
          "output_type": "display_data",
          "data": {
            "text/plain": [
              "<Figure size 500x500 with 0 Axes>"
            ]
          },
          "metadata": {}
        },
        {
          "output_type": "display_data",
          "data": {
            "text/plain": [
              "<Figure size 500x500 with 0 Axes>"
            ]
          },
          "metadata": {}
        },
        {
          "output_type": "stream",
          "name": "stdout",
          "text": [
            "3\n"
          ]
        },
        {
          "output_type": "display_data",
          "data": {
            "text/plain": [
              "<Figure size 500x500 with 0 Axes>"
            ]
          },
          "metadata": {}
        },
        {
          "output_type": "display_data",
          "data": {
            "text/plain": [
              "<Figure size 500x500 with 0 Axes>"
            ]
          },
          "metadata": {}
        },
        {
          "output_type": "stream",
          "name": "stdout",
          "text": [
            "3\n"
          ]
        },
        {
          "output_type": "display_data",
          "data": {
            "text/plain": [
              "<Figure size 500x500 with 0 Axes>"
            ]
          },
          "metadata": {}
        },
        {
          "output_type": "display_data",
          "data": {
            "text/plain": [
              "<Figure size 500x500 with 0 Axes>"
            ]
          },
          "metadata": {}
        },
        {
          "output_type": "stream",
          "name": "stdout",
          "text": [
            "3\n"
          ]
        },
        {
          "output_type": "display_data",
          "data": {
            "text/plain": [
              "<Figure size 500x500 with 0 Axes>"
            ]
          },
          "metadata": {}
        },
        {
          "output_type": "display_data",
          "data": {
            "text/plain": [
              "<Figure size 500x500 with 0 Axes>"
            ]
          },
          "metadata": {}
        },
        {
          "output_type": "stream",
          "name": "stdout",
          "text": [
            "3\n"
          ]
        },
        {
          "output_type": "display_data",
          "data": {
            "text/plain": [
              "<Figure size 500x500 with 0 Axes>"
            ]
          },
          "metadata": {}
        },
        {
          "output_type": "display_data",
          "data": {
            "text/plain": [
              "<Figure size 500x500 with 0 Axes>"
            ]
          },
          "metadata": {}
        },
        {
          "output_type": "stream",
          "name": "stdout",
          "text": [
            "3\n"
          ]
        },
        {
          "output_type": "display_data",
          "data": {
            "text/plain": [
              "<Figure size 500x500 with 0 Axes>"
            ]
          },
          "metadata": {}
        },
        {
          "output_type": "display_data",
          "data": {
            "text/plain": [
              "<Figure size 500x500 with 0 Axes>"
            ]
          },
          "metadata": {}
        },
        {
          "output_type": "display_data",
          "data": {
            "text/plain": [
              "<Figure size 640x480 with 2 Axes>"
            ],
            "image/png": "[encoded data removed]"
          },
          "metadata": {}
        }
      ],
      "source": [
        "#scaling to 2Q  #20231011 - method - scalable\n",
        "\n",
        "wfig = 8.6\n",
        "fig = plt.figure(constrained_layout=True)\n",
        "spec = gridspec.GridSpec(ncols=2, nrows=1, figure=fig, hspace =0.05,\n",
        "                                 wspace=0.05)\n",
        "\n",
        "ax0 = fig.add_subplot(spec[0, 0], projection='3d')\n",
        "ax1 = fig.add_subplot(spec[0, 1], projection='3d')\n",
        "\n",
        "#set initial config to bloch spheres with corresponding axes labels\n",
        "#i.e. b0 = qutip.Bloch(axes=ax0), b1=qutip.Bloch(axes=ax1) ...\n",
        "b0 = qutip.Bloch(axes=ax0)\n",
        "b1 = qutip.Bloch(axes=ax1)\n",
        "\n",
        "#assuming state_arr is obtained from previous config file\n",
        "#make a list of bloch spheres, list of animation lists and arrays of states per qubit\n",
        "#we add color vector for distinction\n",
        "bs_lst_2Q = [b0, b1]\n",
        "arr_lst_2Q = [state_arr_q1_1, state_arr_q2_0]\n",
        "arcs_lst_2Q = [state_anim_list_q1_1, state_anim_list_q2_0]\n",
        "q_cols_2Q = ['g', 'r']\n",
        "zlabel_2Q = [[r'$\\left|0\\right>$', r'$\\left|1\\right>$'],\n",
        "             [r'$\\left|0\\right>$', r'$\\left|1\\right>$']]\n",
        "glabel_2Q = [[ax0, gate_names_q1_1], [ax1, gate_names_q2_0]]\n",
        "\n",
        "def initiate_bloch_qn_with_arc(bs, list_states=[], qcol='g', zlabel=[]):\n",
        "    \"\"\"\n",
        "    Initialize plot of bloch sphere. Must be dedicated to only one sphere of\n",
        "    interest. The good thing is that one can externally assign bloch spheres\n",
        "    for modification.\n",
        "\n",
        "    In the future, it would be nice to extend labeling Z-axes for information.\n",
        "\n",
        "    Based on old script\n",
        "\n",
        "    Parameters\n",
        "    ----------\n",
        "    bs : Bloch\n",
        "      qutip bloch sphere\n",
        "    list_states: list of Qobj\n",
        "      state vectors giving hints for arc trajectory\n",
        "    *kwargs: additional keynote arguments\n",
        "\n",
        "\n",
        "    Returns\n",
        "    -------\n",
        "    None.\n",
        "\n",
        "    \"\"\"\n",
        "    # Highlight nodes on diagram\n",
        "    # |0>, -y, +x, +y\n",
        "    # D:\\Postgrad Projects\\Qiskit_Textbook\\bloch sphere plotting\\qutip q2_sq cz_operate\\Qutip q1=0.py\n",
        "    xp = np.asarray([0, 0, 1, 0, 0, -1])\n",
        "    yp = np.asarray([0, -1, 0, 1, 0, 0])\n",
        "    zp = np.asarray([1, 0, 0, 0, -1, 0])\n",
        "    pnts = [xp, yp, zp]\n",
        "    bs.add_points(pnts)\n",
        "    #check for same states for arc\n",
        "\n",
        "    #draw arc based on states\n",
        "    if list_states == []:\n",
        "      #no need for drawing arcs if no arcs are intended to be drawn\n",
        "      pass\n",
        "    else:\n",
        "      list_coords = gate_arcs_all(list_states) #shows 3 points\n",
        "      f = len(list_states)\n",
        "      m = int((f-1)/2) #mid point\n",
        "      if ((round(list_coords[0][0],6) == round(list_coords[-1][0],6))\n",
        "      & (round(list_coords[0][1],6) == round(list_coords[-1][1],6))\n",
        "      & (round(list_coords[0][-1],6) == round(list_coords[-1][-1],6))):\n",
        "        # make a pass if a coordinate arr[0][x,y,z] and arr[-1][x,y,z] of an arc has the same point\n",
        "        # round is added to remove rounding errors\n",
        "        pass\n",
        "      else:\n",
        "        #draw all arcs #Optimal Hadamard Trajectories are hard from transpiler\n",
        "        [bs.add_arc(start=list_coords[i], end=list_coords[i+1], fmt=qcol,\n",
        "                          ls='dashed', lw=4) for i in range(f-1)]\n",
        "\n",
        "    # Format Bloch Sphere first\n",
        "    bs.vector_color = [qcol, qcol, qcol, qcol]\n",
        "    bs.frame_alpha = 0.05\n",
        "    bs.point_color = ['k', 'k', 'k', 'k', '#CC6600']\n",
        "    bs.point_marker = ['o', 'o', 'o', 'o']\n",
        "    bs.frame_num = 12\n",
        "    bs.sphere_alpha = 0.1\n",
        "    bs.xlabel = ['x', '-x']\n",
        "    bs.ylabel = ['y', '-y']\n",
        "    bs.sphere_color = 'white'\n",
        "    if zlabel == []:\n",
        "      bs.zlabel = [r'$\\left|0\\right>$', r'$\\left|1\\right>$']\n",
        "    else:\n",
        "      bs.zlabel = zlabel\n",
        "\n",
        "def b_plot(i, j, bs, b_states, b_state_arcs, qcol, zlabel):\n",
        "  \"\"\"\n",
        "  methood to scale up bs config.\n",
        "  scale b sphere according to number of bloch spheres\n",
        "  i - frames in int\n",
        "  j - number of batches of frames in int\n",
        "  b_sphere - bloch number\n",
        "  b_states - list of states evolved by i\n",
        "  b_state_arcs - list of state_arcs evolved by j\n",
        "  qcol - color of vectors\n",
        "  zlabel - assignment of states\n",
        "  \"\"\"\n",
        "  bs.clear()\n",
        "  initiate_bloch_qn_with_arc(bs, b_state_arcs[j], qcol, zlabel=zlabel)\n",
        "  bs.add_states([b_states[i]])\n",
        "  bs.show()\n",
        "\n",
        "def animate_add_vec(i, bs_lst, arr_lst, arcs_lst, qcols, zlabels, gate_labels):\n",
        "  \"\"\"\n",
        "  animate bloch sphere entertaining configs of bloch plots.\n",
        "  for every bloch sphere, there returns a corresponding axes\n",
        "  i = frames\n",
        "  bs_list is the bloch spheres of concern\n",
        "  arr_lst is a list of 1D states all qubit vector works,\n",
        "  arcs_lst is a list of arcs used for qubit gates\n",
        "  qcols are list of colors of each qubit states\n",
        "  z-labels are lists of states needed for operation. Default is [[], []]\n",
        "  gate_labels are list of [axes, gate_labels] according to the 1Q list\n",
        "  \"\"\"\n",
        "  #assign j for number of points per movie\n",
        "\n",
        "  pts = len(arcs_lst[0][0]) #pts per gate\n",
        "  j = int(i/(pts))\n",
        "  j_max = int(len(arr_lst[0])/pts)\n",
        "  print(j)\n",
        "  ax_dumb = []\n",
        "  for m in range(len(bs_lst)):\n",
        "    #m = 1 for this list\n",
        "    b_plot(i, j, bs_lst[m], arr_lst[m], arcs_lst[m], qcols[m], zlabels[m])\n",
        "    # annotate gate on title. one can do arrays of labels.\n",
        "    ax = gate_labels[m][0]\n",
        "    ax.set_title('Q' + str(int(m+1)) + ' Gate: ' + gate_labels[m][1][j])\n",
        "    ax_dumb.append(ax)\n",
        "  # return gate_labels[:][0] has a problematic output not expected\n",
        "  return ax_dumb\n",
        "\n",
        "def init(bs_lst, qcols, gate_labels):\n",
        "    ax_dumb = []\n",
        "    for m in range(len(bs_lst)):\n",
        "      bs_lst[m].vector_color = [qcols[m]]\n",
        "      #https://stackoverflow.com/questions/75492605/animate-labels-using-funcanimation-in-matplotlib\n",
        "      ax = gate_labels[m][0] #retrieve selected axes depending on number of bloch sphere\n",
        "      ax_dumb.append(ax)\n",
        "    return ax_dumb\n",
        "\n",
        "ani = animation.FuncAnimation(fig, partial(animate_add_vec, bs_lst=bs_lst_2Q,\n",
        " arr_lst=arr_lst_2Q,\n",
        " arcs_lst=arcs_lst_2Q,\n",
        " qcols=q_cols_2Q,\n",
        "                                           zlabels=zlabel_2Q,\n",
        "                                           gate_labels=glabel_2Q),\n",
        "                              np.arange(len(arr_lst_2Q[0])),\n",
        "                              init_func = partial(init, bs_lst_2Q, q_cols_2Q,\n",
        "                                                  glabel_2Q),\n",
        "                              repeat=False)\n",
        "func_0 = '=|1>'\n",
        "func_n = '_|0>_CCD'\n",
        "fname = 'b_sphere_'+'2Q_'+purpose_1+func_0+'_q2t'+func_n+'.mp4' #with trajectory\n",
        "ani.save(fname, fps=5)\n",
        "\n",
        "#runtime: 26s"
      ]
    },
    {
      "cell_type": "markdown",
      "source": [
        "### Case where control Q1 = |1> and Q2 =|1> => |0>\n",
        "(Reference: Two qubit gates qutech: https://www.youtube.com/watch?v=vwjlEdwi2LU)"
      ],
      "metadata": {
        "id": "DZTOXS9ky_po"
      }
    },
    {
      "cell_type": "code",
      "execution_count": null,
      "metadata": {
        "colab": {
          "base_uri": "https://localhost:8080/",
          "height": 1000
        },
        "outputId": "c4eb06e4-74b6-447c-f75c-2758c452823e",
        "id": "jO1D2DxV2WYj"
      },
      "outputs": [
        {
          "output_type": "stream",
          "name": "stdout",
          "text": [
            "0\n"
          ]
        },
        {
          "output_type": "display_data",
          "data": {
            "text/plain": [
              "<Figure size 500x500 with 0 Axes>"
            ]
          },
          "metadata": {}
        },
        {
          "output_type": "display_data",
          "data": {
            "text/plain": [
              "<Figure size 500x500 with 0 Axes>"
            ]
          },
          "metadata": {}
        },
        {
          "output_type": "stream",
          "name": "stdout",
          "text": [
            "0\n"
          ]
        },
        {
          "output_type": "display_data",
          "data": {
            "text/plain": [
              "<Figure size 500x500 with 0 Axes>"
            ]
          },
          "metadata": {}
        },
        {
          "output_type": "display_data",
          "data": {
            "text/plain": [
              "<Figure size 500x500 with 0 Axes>"
            ]
          },
          "metadata": {}
        },
        {
          "output_type": "stream",
          "name": "stdout",
          "text": [
            "0\n"
          ]
        },
        {
          "output_type": "display_data",
          "data": {
            "text/plain": [
              "<Figure size 500x500 with 0 Axes>"
            ]
          },
          "metadata": {}
        },
        {
          "output_type": "display_data",
          "data": {
            "text/plain": [
              "<Figure size 500x500 with 0 Axes>"
            ]
          },
          "metadata": {}
        },
        {
          "output_type": "stream",
          "name": "stdout",
          "text": [
            "0\n"
          ]
        },
        {
          "output_type": "display_data",
          "data": {
            "text/plain": [
              "<Figure size 500x500 with 0 Axes>"
            ]
          },
          "metadata": {}
        },
        {
          "output_type": "display_data",
          "data": {
            "text/plain": [
              "<Figure size 500x500 with 0 Axes>"
            ]
          },
          "metadata": {}
        },
        {
          "output_type": "stream",
          "name": "stdout",
          "text": [
            "0\n"
          ]
        },
        {
          "output_type": "display_data",
          "data": {
            "text/plain": [
              "<Figure size 500x500 with 0 Axes>"
            ]
          },
          "metadata": {}
        },
        {
          "output_type": "display_data",
          "data": {
            "text/plain": [
              "<Figure size 500x500 with 0 Axes>"
            ]
          },
          "metadata": {}
        },
        {
          "output_type": "stream",
          "name": "stdout",
          "text": [
            "0\n"
          ]
        },
        {
          "output_type": "display_data",
          "data": {
            "text/plain": [
              "<Figure size 500x500 with 0 Axes>"
            ]
          },
          "metadata": {}
        },
        {
          "output_type": "display_data",
          "data": {
            "text/plain": [
              "<Figure size 500x500 with 0 Axes>"
            ]
          },
          "metadata": {}
        },
        {
          "output_type": "stream",
          "name": "stdout",
          "text": [
            "0\n"
          ]
        },
        {
          "output_type": "display_data",
          "data": {
            "text/plain": [
              "<Figure size 500x500 with 0 Axes>"
            ]
          },
          "metadata": {}
        },
        {
          "output_type": "display_data",
          "data": {
            "text/plain": [
              "<Figure size 500x500 with 0 Axes>"
            ]
          },
          "metadata": {}
        },
        {
          "output_type": "stream",
          "name": "stdout",
          "text": [
            "0\n"
          ]
        },
        {
          "output_type": "display_data",
          "data": {
            "text/plain": [
              "<Figure size 500x500 with 0 Axes>"
            ]
          },
          "metadata": {}
        },
        {
          "output_type": "display_data",
          "data": {
            "text/plain": [
              "<Figure size 500x500 with 0 Axes>"
            ]
          },
          "metadata": {}
        },
        {
          "output_type": "stream",
          "name": "stdout",
          "text": [
            "0\n"
          ]
        },
        {
          "output_type": "display_data",
          "data": {
            "text/plain": [
              "<Figure size 500x500 with 0 Axes>"
            ]
          },
          "metadata": {}
        },
        {
          "output_type": "display_data",
          "data": {
            "text/plain": [
              "<Figure size 500x500 with 0 Axes>"
            ]
          },
          "metadata": {}
        },
        {
          "output_type": "stream",
          "name": "stdout",
          "text": [
            "0\n"
          ]
        },
        {
          "output_type": "display_data",
          "data": {
            "text/plain": [
              "<Figure size 500x500 with 0 Axes>"
            ]
          },
          "metadata": {}
        },
        {
          "output_type": "display_data",
          "data": {
            "text/plain": [
              "<Figure size 500x500 with 0 Axes>"
            ]
          },
          "metadata": {}
        },
        {
          "output_type": "stream",
          "name": "stdout",
          "text": [
            "0\n"
          ]
        },
        {
          "output_type": "display_data",
          "data": {
            "text/plain": [
              "<Figure size 500x500 with 0 Axes>"
            ]
          },
          "metadata": {}
        },
        {
          "output_type": "display_data",
          "data": {
            "text/plain": [
              "<Figure size 500x500 with 0 Axes>"
            ]
          },
          "metadata": {}
        },
        {
          "output_type": "stream",
          "name": "stdout",
          "text": [
            "1\n"
          ]
        },
        {
          "output_type": "display_data",
          "data": {
            "text/plain": [
              "<Figure size 500x500 with 0 Axes>"
            ]
          },
          "metadata": {}
        },
        {
          "output_type": "display_data",
          "data": {
            "text/plain": [
              "<Figure size 500x500 with 0 Axes>"
            ]
          },
          "metadata": {}
        },
        {
          "output_type": "stream",
          "name": "stdout",
          "text": [
            "1\n"
          ]
        },
        {
          "output_type": "display_data",
          "data": {
            "text/plain": [
              "<Figure size 500x500 with 0 Axes>"
            ]
          },
          "metadata": {}
        },
        {
          "output_type": "display_data",
          "data": {
            "text/plain": [
              "<Figure size 500x500 with 0 Axes>"
            ]
          },
          "metadata": {}
        },
        {
          "output_type": "stream",
          "name": "stdout",
          "text": [
            "1\n"
          ]
        },
        {
          "output_type": "display_data",
          "data": {
            "text/plain": [
              "<Figure size 500x500 with 0 Axes>"
            ]
          },
          "metadata": {}
        },
        {
          "output_type": "display_data",
          "data": {
            "text/plain": [
              "<Figure size 500x500 with 0 Axes>"
            ]
          },
          "metadata": {}
        },
        {
          "output_type": "stream",
          "name": "stdout",
          "text": [
            "1\n"
          ]
        },
        {
          "output_type": "display_data",
          "data": {
            "text/plain": [
              "<Figure size 500x500 with 0 Axes>"
            ]
          },
          "metadata": {}
        },
        {
          "output_type": "display_data",
          "data": {
            "text/plain": [
              "<Figure size 500x500 with 0 Axes>"
            ]
          },
          "metadata": {}
        },
        {
          "output_type": "stream",
          "name": "stdout",
          "text": [
            "1\n"
          ]
        },
        {
          "output_type": "display_data",
          "data": {
            "text/plain": [
              "<Figure size 500x500 with 0 Axes>"
            ]
          },
          "metadata": {}
        },
        {
          "output_type": "display_data",
          "data": {
            "text/plain": [
              "<Figure size 500x500 with 0 Axes>"
            ]
          },
          "metadata": {}
        },
        {
          "output_type": "stream",
          "name": "stdout",
          "text": [
            "1\n"
          ]
        },
        {
          "output_type": "display_data",
          "data": {
            "text/plain": [
              "<Figure size 500x500 with 0 Axes>"
            ]
          },
          "metadata": {}
        },
        {
          "output_type": "display_data",
          "data": {
            "text/plain": [
              "<Figure size 500x500 with 0 Axes>"
            ]
          },
          "metadata": {}
        },
        {
          "output_type": "stream",
          "name": "stdout",
          "text": [
            "1\n"
          ]
        },
        {
          "output_type": "display_data",
          "data": {
            "text/plain": [
              "<Figure size 500x500 with 0 Axes>"
            ]
          },
          "metadata": {}
        },
        {
          "output_type": "display_data",
          "data": {
            "text/plain": [
              "<Figure size 500x500 with 0 Axes>"
            ]
          },
          "metadata": {}
        },
        {
          "output_type": "stream",
          "name": "stdout",
          "text": [
            "1\n"
          ]
        },
        {
          "output_type": "display_data",
          "data": {
            "text/plain": [
              "<Figure size 500x500 with 0 Axes>"
            ]
          },
          "metadata": {}
        },
        {
          "output_type": "display_data",
          "data": {
            "text/plain": [
              "<Figure size 500x500 with 0 Axes>"
            ]
          },
          "metadata": {}
        },
        {
          "output_type": "stream",
          "name": "stdout",
          "text": [
            "1\n"
          ]
        },
        {
          "output_type": "display_data",
          "data": {
            "text/plain": [
              "<Figure size 500x500 with 0 Axes>"
            ]
          },
          "metadata": {}
        },
        {
          "output_type": "display_data",
          "data": {
            "text/plain": [
              "<Figure size 500x500 with 0 Axes>"
            ]
          },
          "metadata": {}
        },
        {
          "output_type": "stream",
          "name": "stdout",
          "text": [
            "1\n"
          ]
        },
        {
          "output_type": "display_data",
          "data": {
            "text/plain": [
              "<Figure size 500x500 with 0 Axes>"
            ]
          },
          "metadata": {}
        },
        {
          "output_type": "display_data",
          "data": {
            "text/plain": [
              "<Figure size 500x500 with 0 Axes>"
            ]
          },
          "metadata": {}
        },
        {
          "output_type": "stream",
          "name": "stdout",
          "text": [
            "1\n"
          ]
        },
        {
          "output_type": "display_data",
          "data": {
            "text/plain": [
              "<Figure size 500x500 with 0 Axes>"
            ]
          },
          "metadata": {}
        },
        {
          "output_type": "display_data",
          "data": {
            "text/plain": [
              "<Figure size 500x500 with 0 Axes>"
            ]
          },
          "metadata": {}
        },
        {
          "output_type": "stream",
          "name": "stdout",
          "text": [
            "2\n"
          ]
        },
        {
          "output_type": "display_data",
          "data": {
            "text/plain": [
              "<Figure size 500x500 with 0 Axes>"
            ]
          },
          "metadata": {}
        },
        {
          "output_type": "display_data",
          "data": {
            "text/plain": [
              "<Figure size 500x500 with 0 Axes>"
            ]
          },
          "metadata": {}
        },
        {
          "output_type": "stream",
          "name": "stdout",
          "text": [
            "2\n"
          ]
        },
        {
          "output_type": "display_data",
          "data": {
            "text/plain": [
              "<Figure size 500x500 with 0 Axes>"
            ]
          },
          "metadata": {}
        },
        {
          "output_type": "display_data",
          "data": {
            "text/plain": [
              "<Figure size 500x500 with 0 Axes>"
            ]
          },
          "metadata": {}
        },
        {
          "output_type": "stream",
          "name": "stdout",
          "text": [
            "2\n"
          ]
        },
        {
          "output_type": "display_data",
          "data": {
            "text/plain": [
              "<Figure size 500x500 with 0 Axes>"
            ]
          },
          "metadata": {}
        },
        {
          "output_type": "display_data",
          "data": {
            "text/plain": [
              "<Figure size 500x500 with 0 Axes>"
            ]
          },
          "metadata": {}
        },
        {
          "output_type": "stream",
          "name": "stdout",
          "text": [
            "2\n"
          ]
        },
        {
          "output_type": "display_data",
          "data": {
            "text/plain": [
              "<Figure size 500x500 with 0 Axes>"
            ]
          },
          "metadata": {}
        },
        {
          "output_type": "display_data",
          "data": {
            "text/plain": [
              "<Figure size 500x500 with 0 Axes>"
            ]
          },
          "metadata": {}
        },
        {
          "output_type": "stream",
          "name": "stdout",
          "text": [
            "2\n"
          ]
        },
        {
          "output_type": "display_data",
          "data": {
            "text/plain": [
              "<Figure size 500x500 with 0 Axes>"
            ]
          },
          "metadata": {}
        },
        {
          "output_type": "display_data",
          "data": {
            "text/plain": [
              "<Figure size 500x500 with 0 Axes>"
            ]
          },
          "metadata": {}
        },
        {
          "output_type": "stream",
          "name": "stdout",
          "text": [
            "2\n"
          ]
        },
        {
          "output_type": "display_data",
          "data": {
            "text/plain": [
              "<Figure size 500x500 with 0 Axes>"
            ]
          },
          "metadata": {}
        },
        {
          "output_type": "display_data",
          "data": {
            "text/plain": [
              "<Figure size 500x500 with 0 Axes>"
            ]
          },
          "metadata": {}
        },
        {
          "output_type": "stream",
          "name": "stdout",
          "text": [
            "2\n"
          ]
        },
        {
          "output_type": "display_data",
          "data": {
            "text/plain": [
              "<Figure size 500x500 with 0 Axes>"
            ]
          },
          "metadata": {}
        },
        {
          "output_type": "display_data",
          "data": {
            "text/plain": [
              "<Figure size 500x500 with 0 Axes>"
            ]
          },
          "metadata": {}
        },
        {
          "output_type": "stream",
          "name": "stdout",
          "text": [
            "2\n"
          ]
        },
        {
          "output_type": "display_data",
          "data": {
            "text/plain": [
              "<Figure size 500x500 with 0 Axes>"
            ]
          },
          "metadata": {}
        },
        {
          "output_type": "display_data",
          "data": {
            "text/plain": [
              "<Figure size 500x500 with 0 Axes>"
            ]
          },
          "metadata": {}
        },
        {
          "output_type": "stream",
          "name": "stdout",
          "text": [
            "2\n"
          ]
        },
        {
          "output_type": "display_data",
          "data": {
            "text/plain": [
              "<Figure size 500x500 with 0 Axes>"
            ]
          },
          "metadata": {}
        },
        {
          "output_type": "display_data",
          "data": {
            "text/plain": [
              "<Figure size 500x500 with 0 Axes>"
            ]
          },
          "metadata": {}
        },
        {
          "output_type": "stream",
          "name": "stdout",
          "text": [
            "2\n"
          ]
        },
        {
          "output_type": "display_data",
          "data": {
            "text/plain": [
              "<Figure size 500x500 with 0 Axes>"
            ]
          },
          "metadata": {}
        },
        {
          "output_type": "display_data",
          "data": {
            "text/plain": [
              "<Figure size 500x500 with 0 Axes>"
            ]
          },
          "metadata": {}
        },
        {
          "output_type": "stream",
          "name": "stdout",
          "text": [
            "2\n"
          ]
        },
        {
          "output_type": "display_data",
          "data": {
            "text/plain": [
              "<Figure size 500x500 with 0 Axes>"
            ]
          },
          "metadata": {}
        },
        {
          "output_type": "display_data",
          "data": {
            "text/plain": [
              "<Figure size 500x500 with 0 Axes>"
            ]
          },
          "metadata": {}
        },
        {
          "output_type": "stream",
          "name": "stdout",
          "text": [
            "3\n"
          ]
        },
        {
          "output_type": "display_data",
          "data": {
            "text/plain": [
              "<Figure size 500x500 with 0 Axes>"
            ]
          },
          "metadata": {}
        },
        {
          "output_type": "display_data",
          "data": {
            "text/plain": [
              "<Figure size 500x500 with 0 Axes>"
            ]
          },
          "metadata": {}
        },
        {
          "output_type": "stream",
          "name": "stdout",
          "text": [
            "3\n"
          ]
        },
        {
          "output_type": "display_data",
          "data": {
            "text/plain": [
              "<Figure size 500x500 with 0 Axes>"
            ]
          },
          "metadata": {}
        },
        {
          "output_type": "display_data",
          "data": {
            "text/plain": [
              "<Figure size 500x500 with 0 Axes>"
            ]
          },
          "metadata": {}
        },
        {
          "output_type": "stream",
          "name": "stdout",
          "text": [
            "3\n"
          ]
        },
        {
          "output_type": "display_data",
          "data": {
            "text/plain": [
              "<Figure size 500x500 with 0 Axes>"
            ]
          },
          "metadata": {}
        },
        {
          "output_type": "display_data",
          "data": {
            "text/plain": [
              "<Figure size 500x500 with 0 Axes>"
            ]
          },
          "metadata": {}
        },
        {
          "output_type": "stream",
          "name": "stdout",
          "text": [
            "3\n"
          ]
        },
        {
          "output_type": "display_data",
          "data": {
            "text/plain": [
              "<Figure size 500x500 with 0 Axes>"
            ]
          },
          "metadata": {}
        },
        {
          "output_type": "display_data",
          "data": {
            "text/plain": [
              "<Figure size 500x500 with 0 Axes>"
            ]
          },
          "metadata": {}
        },
        {
          "output_type": "stream",
          "name": "stdout",
          "text": [
            "3\n"
          ]
        },
        {
          "output_type": "display_data",
          "data": {
            "text/plain": [
              "<Figure size 500x500 with 0 Axes>"
            ]
          },
          "metadata": {}
        },
        {
          "output_type": "display_data",
          "data": {
            "text/plain": [
              "<Figure size 500x500 with 0 Axes>"
            ]
          },
          "metadata": {}
        },
        {
          "output_type": "stream",
          "name": "stdout",
          "text": [
            "3\n"
          ]
        },
        {
          "output_type": "display_data",
          "data": {
            "text/plain": [
              "<Figure size 500x500 with 0 Axes>"
            ]
          },
          "metadata": {}
        },
        {
          "output_type": "display_data",
          "data": {
            "text/plain": [
              "<Figure size 500x500 with 0 Axes>"
            ]
          },
          "metadata": {}
        },
        {
          "output_type": "stream",
          "name": "stdout",
          "text": [
            "3\n"
          ]
        },
        {
          "output_type": "display_data",
          "data": {
            "text/plain": [
              "<Figure size 500x500 with 0 Axes>"
            ]
          },
          "metadata": {}
        },
        {
          "output_type": "display_data",
          "data": {
            "text/plain": [
              "<Figure size 500x500 with 0 Axes>"
            ]
          },
          "metadata": {}
        },
        {
          "output_type": "stream",
          "name": "stdout",
          "text": [
            "3\n"
          ]
        },
        {
          "output_type": "display_data",
          "data": {
            "text/plain": [
              "<Figure size 500x500 with 0 Axes>"
            ]
          },
          "metadata": {}
        },
        {
          "output_type": "display_data",
          "data": {
            "text/plain": [
              "<Figure size 500x500 with 0 Axes>"
            ]
          },
          "metadata": {}
        },
        {
          "output_type": "stream",
          "name": "stdout",
          "text": [
            "3\n"
          ]
        },
        {
          "output_type": "display_data",
          "data": {
            "text/plain": [
              "<Figure size 500x500 with 0 Axes>"
            ]
          },
          "metadata": {}
        },
        {
          "output_type": "display_data",
          "data": {
            "text/plain": [
              "<Figure size 500x500 with 0 Axes>"
            ]
          },
          "metadata": {}
        },
        {
          "output_type": "stream",
          "name": "stdout",
          "text": [
            "3\n"
          ]
        },
        {
          "output_type": "display_data",
          "data": {
            "text/plain": [
              "<Figure size 500x500 with 0 Axes>"
            ]
          },
          "metadata": {}
        },
        {
          "output_type": "display_data",
          "data": {
            "text/plain": [
              "<Figure size 500x500 with 0 Axes>"
            ]
          },
          "metadata": {}
        },
        {
          "output_type": "stream",
          "name": "stdout",
          "text": [
            "3\n"
          ]
        },
        {
          "output_type": "display_data",
          "data": {
            "text/plain": [
              "<Figure size 500x500 with 0 Axes>"
            ]
          },
          "metadata": {}
        },
        {
          "output_type": "display_data",
          "data": {
            "text/plain": [
              "<Figure size 500x500 with 0 Axes>"
            ]
          },
          "metadata": {}
        },
        {
          "output_type": "display_data",
          "data": {
            "text/plain": [
              "<Figure size 640x480 with 2 Axes>"
            ],
            "image/png": "[encoded data removed]"
          },
          "metadata": {}
        }
      ],
      "source": [
        "#scaling to 2Q  #20231011 - method - scalable\n",
        "\n",
        "wfig = 8.6\n",
        "fig = plt.figure(constrained_layout=True)\n",
        "spec = gridspec.GridSpec(ncols=2, nrows=1, figure=fig, hspace =0.05,\n",
        "                                 wspace=0.05)\n",
        "\n",
        "ax0 = fig.add_subplot(spec[0, 0], projection='3d')\n",
        "ax1 = fig.add_subplot(spec[0, 1], projection='3d')\n",
        "\n",
        "#set initial config to bloch spheres with corresponding axes labels\n",
        "#i.e. b0 = qutip.Bloch(axes=ax0), b1=qutip.Bloch(axes=ax1) ...\n",
        "b0 = qutip.Bloch(axes=ax0)\n",
        "b1 = qutip.Bloch(axes=ax1)\n",
        "\n",
        "#assuming state_arr is obtained from previous config file\n",
        "#make a list of bloch spheres, list of animation lists and arrays of states per qubit\n",
        "#we add color vector for distinction\n",
        "bs_lst_2Q = [b0, b1]\n",
        "arr_lst_2Q = [state_arr_q1_1, state_arr_q2_1]\n",
        "arcs_lst_2Q = [state_anim_list_q1_1, state_anim_list_q2_1]\n",
        "q_cols_2Q = ['g', 'r']\n",
        "zlabel_2Q = [[r'$\\left|0\\right>$', r'$\\left|1\\right>$'],\n",
        "             [r'$\\left|0\\right>$', r'$\\left|1\\right>$']]\n",
        "glabel_2Q = [[ax0, gate_names_q1_1], [ax1, gate_names_q2_1]]\n",
        "\n",
        "def initiate_bloch_qn_with_arc(bs, list_states=[], qcol='g', zlabel=[]):\n",
        "    \"\"\"\n",
        "    Initialize plot of bloch sphere. Must be dedicated to only one sphere of\n",
        "    interest. The good thing is that one can externally assign bloch spheres\n",
        "    for modification.\n",
        "\n",
        "    In the future, it would be nice to extend labeling Z-axes for information.\n",
        "\n",
        "    Based on old script\n",
        "\n",
        "    Parameters\n",
        "    ----------\n",
        "    bs : Bloch\n",
        "      qutip bloch sphere\n",
        "    list_states: list of Qobj\n",
        "      state vectors giving hints for arc trajectory\n",
        "    *kwargs: additional keynote arguments\n",
        "\n",
        "\n",
        "    Returns\n",
        "    -------\n",
        "    None.\n",
        "\n",
        "    \"\"\"\n",
        "    # Highlight nodes on diagram\n",
        "    # |0>, -y, +x, +y\n",
        "    # D:\\Postgrad Projects\\Qiskit_Textbook\\bloch sphere plotting\\qutip q2_sq cz_operate\\Qutip q1=0.py\n",
        "    xp = np.asarray([0, 0, 1, 0, 0, -1])\n",
        "    yp = np.asarray([0, -1, 0, 1, 0, 0])\n",
        "    zp = np.asarray([1, 0, 0, 0, -1, 0])\n",
        "    pnts = [xp, yp, zp]\n",
        "    bs.add_points(pnts)\n",
        "    #check for same states for arc\n",
        "\n",
        "    #draw arc based on states\n",
        "    if list_states == []:\n",
        "      #no need for drawing arcs if no arcs are intended to be drawn\n",
        "      pass\n",
        "    else:\n",
        "      list_coords = gate_arcs_all(list_states) #shows 3 points\n",
        "      f = len(list_states)\n",
        "      m = int((f-1)/2) #mid point\n",
        "      if ((round(list_coords[0][0],6) == round(list_coords[-1][0],6))\n",
        "      & (round(list_coords[0][1],6) == round(list_coords[-1][1],6))\n",
        "      & (round(list_coords[0][-1],6) == round(list_coords[-1][-1],6))):\n",
        "        # make a pass if a coordinate arr[0][x,y,z] and arr[-1][x,y,z] of an arc has the same point\n",
        "        # round is added to remove rounding errors\n",
        "        pass\n",
        "      else:\n",
        "        #draw all arcs #Optimal Hadamard Trajectories are hard from transpiler\n",
        "        [bs.add_arc(start=list_coords[i], end=list_coords[i+1], fmt=qcol,\n",
        "                          ls='dashed', lw=4) for i in range(f-1)]\n",
        "\n",
        "    # Format Bloch Sphere first\n",
        "    bs.vector_color = [qcol, qcol, qcol, qcol]\n",
        "    bs.frame_alpha = 0.05\n",
        "    bs.point_color = ['k', 'k', 'k', 'k', '#CC6600']\n",
        "    bs.point_marker = ['o', 'o', 'o', 'o']\n",
        "    bs.frame_num = 12\n",
        "    bs.sphere_alpha = 0.1\n",
        "    bs.xlabel = ['x', '-x']\n",
        "    bs.ylabel = ['y', '-y']\n",
        "    bs.sphere_color = 'white'\n",
        "    if zlabel == []:\n",
        "      bs.zlabel = [r'$\\left|0\\right>$', r'$\\left|1\\right>$']\n",
        "    else:\n",
        "      bs.zlabel = zlabel\n",
        "\n",
        "def b_plot(i, j, bs, b_states, b_state_arcs, qcol, zlabel):\n",
        "  \"\"\"\n",
        "  methood to scale up bs config.\n",
        "  scale b sphere according to number of bloch spheres\n",
        "  i - frames in int\n",
        "  j - number of batches of frames in int\n",
        "  b_sphere - bloch number\n",
        "  b_states - list of states evolved by i\n",
        "  b_state_arcs - list of state_arcs evolved by j\n",
        "  qcol - color of vectors\n",
        "  zlabel - assignment of states\n",
        "  \"\"\"\n",
        "  bs.clear()\n",
        "  initiate_bloch_qn_with_arc(bs, b_state_arcs[j], qcol, zlabel=zlabel)\n",
        "  bs.add_states([b_states[i]])\n",
        "  bs.show()\n",
        "\n",
        "def animate_add_vec(i, bs_lst, arr_lst, arcs_lst, qcols, zlabels, gate_labels):\n",
        "  \"\"\"\n",
        "  animate bloch sphere entertaining configs of bloch plots.\n",
        "  for every bloch sphere, there returns a corresponding axes\n",
        "  i = frames\n",
        "  bs_list is the bloch spheres of concern\n",
        "  arr_lst is a list of 1D states all qubit vector works,\n",
        "  arcs_lst is a list of arcs used for qubit gates\n",
        "  qcols are list of colors of each qubit states\n",
        "  z-labels are lists of states needed for operation. Default is [[], []]\n",
        "  gate_labels are list of [axes, gate_labels] according to the 1Q list\n",
        "  \"\"\"\n",
        "  #assign j for number of points per movie\n",
        "\n",
        "  pts = len(arcs_lst[0][0]) #pts per gate\n",
        "  j = int(i/(pts))\n",
        "  j_max = int(len(arr_lst[0])/pts)\n",
        "  print(j)\n",
        "  ax_dumb = []\n",
        "  for m in range(len(bs_lst)):\n",
        "    #m = 1 for this list\n",
        "    b_plot(i, j, bs_lst[m], arr_lst[m], arcs_lst[m], qcols[m], zlabels[m])\n",
        "    # annotate gate on title. one can do arrays of labels.\n",
        "    ax = gate_labels[m][0]\n",
        "    ax.set_title('Q' + str(int(m+1)) + ' Gate: ' + gate_labels[m][1][j])\n",
        "    ax_dumb.append(ax)\n",
        "  # return gate_labels[:][0] has a problematic output not expected\n",
        "  return ax_dumb\n",
        "\n",
        "def init(bs_lst, qcols, gate_labels):\n",
        "    ax_dumb = []\n",
        "    for m in range(len(bs_lst)):\n",
        "      bs_lst[m].vector_color = [qcols[m]]\n",
        "      #https://stackoverflow.com/questions/75492605/animate-labels-using-funcanimation-in-matplotlib\n",
        "      ax = gate_labels[m][0] #retrieve selected axes depending on number of bloch sphere\n",
        "      ax_dumb.append(ax)\n",
        "    return ax_dumb\n",
        "\n",
        "ani = animation.FuncAnimation(fig, partial(animate_add_vec, bs_lst=bs_lst_2Q,\n",
        " arr_lst=arr_lst_2Q,\n",
        " arcs_lst=arcs_lst_2Q,\n",
        " qcols=q_cols_2Q,\n",
        "                                           zlabels=zlabel_2Q,\n",
        "                                           gate_labels=glabel_2Q),\n",
        "                              np.arange(len(arr_lst_2Q[0])),\n",
        "                              init_func = partial(init, bs_lst_2Q, q_cols_2Q,\n",
        "                                                  glabel_2Q),\n",
        "                              repeat=False)\n",
        "func_0 = '=|1>'\n",
        "func_n = '_|1>_CCD'\n",
        "fname = 'b_sphere_'+'2Q_'+purpose_1+func_0+'_q2t'+func_n+'.mp4' #with trajectory\n",
        "ani.save(fname, fps=5)\n",
        "\n",
        "#runtime: 27 s"
      ]
    },
    {
      "cell_type": "code",
      "execution_count": null,
      "metadata": {
        "id": "01TB29Od0kzH",
        "colab": {
          "base_uri": "https://localhost:8080/",
          "height": 263
        },
        "outputId": "206ae4ab-51a5-443c-969d-a2d71e1e9b4f"
      },
      "outputs": [
        {
          "output_type": "execute_result",
          "data": {
            "text/plain": [
              "<IPython.core.display.HTML object>"
            ],
            "text/html": [
              "<table><tr><th>Software</th><th>Version</th></tr><tr><td>QuTiP</td><td>4.7.3</td></tr><tr><td>Numpy</td><td>1.23.5</td></tr><tr><td>SciPy</td><td>1.11.3</td></tr><tr><td>matplotlib</td><td>3.7.1</td></tr><tr><td>Cython</td><td>3.0.3</td></tr><tr><td>Number of CPUs</td><td>2</td></tr><tr><td>BLAS Info</td><td>OPENBLAS</td></tr><tr><td>IPython</td><td>7.34.0</td></tr><tr><td>Python</td><td>3.10.12 (main, Jun 11 2023, 05:26:28) [GCC 11.4.0]</td></tr><tr><td>OS</td><td>posix [linux]</td></tr><tr><td colspan='2'>Wed Oct 11 03:25:36 2023 UTC</td></tr></table>"
            ]
          },
          "metadata": {},
          "execution_count": 38
        }
      ],
      "source": [
        "from qutip.ipynbtools import version_table\n",
        "version_table() #this is good"
      ]
    }
  ]
}